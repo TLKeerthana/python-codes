{
 "cells": [
  {
   "cell_type": "code",
   "execution_count": 11,
   "id": "278c4928-e90b-4081-aec6-f48f46b0dd7c",
   "metadata": {},
   "outputs": [
    {
     "name": "stdout",
     "output_type": "stream",
     "text": [
      "11\n",
      "22\n",
      "33\n",
      "44\n",
      "55\n",
      "66\n",
      "77\n",
      "88\n",
      "99\n",
      "110\n"
     ]
    }
   ],
   "source": [
    "for i in range(1,11): #initialization:i=1 #condition:range<11\n",
    "    print(i*11)        #updation:i=i+1 #statement:i*2"
   ]
  },
  {
   "cell_type": "code",
   "execution_count": 4,
   "id": "76219422-924a-4128-ab49-ed5d0652790e",
   "metadata": {},
   "outputs": [],
   "source": [
    "def fun(i):\n",
    "    if i==11:\n",
    "        return\n",
    "    print(i*2)\n",
    "    i=i+1\n",
    "    fun(i)\n",
    "    return"
   ]
  },
  {
   "cell_type": "code",
   "execution_count": 6,
   "id": "82d67354-8467-4e46-9c2c-82b4c29a7cad",
   "metadata": {},
   "outputs": [
    {
     "name": "stdin",
     "output_type": "stream",
     "text": [
      "enter the number: 3\n"
     ]
    },
    {
     "name": "stdout",
     "output_type": "stream",
     "text": [
      "6\n"
     ]
    }
   ],
   "source": [
    "def fac(n):\n",
    "    if n==0:\n",
    "        return 1\n",
    "    else:\n",
    "        return n * fac(n-1)\n",
    "num=int(input(\"enter the number:\"))\n",
    "print(fac(num))"
   ]
  },
  {
   "cell_type": "code",
   "execution_count": 8,
   "id": "9c993a35-5b69-4d16-96e0-0f5ed57cdf8e",
   "metadata": {},
   "outputs": [
    {
     "name": "stdin",
     "output_type": "stream",
     "text": [
      "Enter a number:  3\n"
     ]
    },
    {
     "name": "stdout",
     "output_type": "stream",
     "text": [
      "6\n"
     ]
    }
   ],
   "source": [
    "a = int(input(\"Enter a number: \"))\n",
    "\n",
    "def fac(n):\n",
    "    e = 1\n",
    "    for i in range(1, n + 1):\n",
    "        e *= i\n",
    "    return e\n",
    "print(fac(a))\n"
   ]
  },
  {
   "cell_type": "code",
   "execution_count": 26,
   "id": "e7b00b06-7ec5-454c-b853-ff03398930e7",
   "metadata": {},
   "outputs": [
    {
     "name": "stdin",
     "output_type": "stream",
     "text": [
      " 3\n"
     ]
    },
    {
     "name": "stdout",
     "output_type": "stream",
     "text": [
      "6\n"
     ]
    }
   ],
   "source": [
    "fact=1                        #initialization:i=n,\n",
    "a=int(input())                #condition:range>1,updation:i-1,statement:fact:fact*i\n",
    "for i in range(a,1,-1):\n",
    "    fact *= i\n",
    "print(fact)  "
   ]
  },
  {
   "cell_type": "code",
   "execution_count": 31,
   "id": "817c19c0-ec22-4934-996a-15b7f3995491",
   "metadata": {},
   "outputs": [
    {
     "name": "stdout",
     "output_type": "stream",
     "text": [
      "[1, 2, 3, 4, 5, 6, 7, 8, 9]\n"
     ]
    }
   ],
   "source": [
    "def findpi(ar,low,high):\n",
    "    pe=ar[high]\n",
    "    j=low-1\n",
    "    for i in range(low,high):\n",
    "        if pe>ar[i]:\n",
    "            j+=1\n",
    "            ar[i],ar[j]=ar[j],ar[i]\n",
    "    ar[high],ar[j+1]=ar[j+1],ar[high]\n",
    "    return j+1\n",
    "\n",
    "def quicksort(ar,low,high):\n",
    "    if low<high:\n",
    "        pi=findpi(ar,low,high)\n",
    "        quicksort(ar,low,pi-1)\n",
    "        quicksort(ar,pi+1,high)\n",
    "\n",
    "ar=[3,5,7,2,4,8,1,9,6]\n",
    "quicksort(ar,0,len(ar)-1)\n",
    "print(ar)"
   ]
  },
  {
   "cell_type": "code",
   "execution_count": 5,
   "id": "32c8641b-64fb-487b-8654-9f0af1445b1f",
   "metadata": {},
   "outputs": [
    {
     "name": "stdout",
     "output_type": "stream",
     "text": [
      "A= <__main__.node object at 0x0000018B37F0BF20>\n",
      "B= <__main__.node object at 0x0000018B37F09760>\n",
      "C= <__main__.node object at 0x0000018B37DF4CB0>\n",
      "D= <__main__.node object at 0x0000018B37DF4AD0>\n",
      "<__main__.node object at 0x0000018B37F0BF20> -->\n",
      "<__main__.node object at 0x0000018B37F09760> -->\n",
      "<__main__.node object at 0x0000018B37DF4CB0> -->\n",
      "<__main__.node object at 0x0000018B37DF4AD0> -->\n"
     ]
    }
   ],
   "source": [
    "class node:\n",
    "    def __init__(self,value):\n",
    "        self.data=value\n",
    "        self.next=None\n",
    "        \n",
    "A=node(\"apple\")\n",
    "B=node(\"book\")\n",
    "C=node(\"cat\")\n",
    "D=node(\"dog\")\n",
    "head=A\n",
    "head.next=B\n",
    "head.next.next=C\n",
    "head.next.next.next=D\n",
    "\n",
    "print(\"A=\",A)\n",
    "print(\"B=\",B)\n",
    "print(\"C=\",C)\n",
    "print(\"D=\",D)\n",
    "\n",
    "print(head,\"-->\")\n",
    "print(head.next,\"-->\")\n",
    "print(head.next.next,\"-->\")\n",
    "print(head.next.next.next,\"-->\")"
   ]
  },
  {
   "cell_type": "code",
   "execution_count": 6,
   "id": "528ebf0e-af2b-40ae-956c-b796f490b4ef",
   "metadata": {},
   "outputs": [
    {
     "name": "stdout",
     "output_type": "stream",
     "text": [
      "node 1 <__main__.node object at 0x0000018B37D1A870> 1\n",
      "node 2 <__main__.node object at 0x0000018B37F08050> 2\n",
      "node 3 <__main__.node object at 0x0000018B37F0BE90> 3\n",
      "node 4 <__main__.node object at 0x0000018B37F09700> 4\n"
     ]
    }
   ],
   "source": [
    "class node:\n",
    "    def __init__(self,value):\n",
    "        self.data=value\n",
    "        self.next=None\n",
    "\n",
    "head=node(1)\n",
    "head.next=node(2)\n",
    "head.next.next=node(3)\n",
    "head.next.next.next=node(4)\n",
    "\n",
    "print(\"node 1\",head,head.data)\n",
    "print(\"node 2\",head.next,head.next.data)\n",
    "print(\"node 3\",head.next.next,head.next.next.data)\n",
    "print(\"node 4\",head.next.next.next,head.next.next.next.data)"
   ]
  },
  {
   "cell_type": "code",
   "execution_count": null,
   "id": "7da7c688-f6cd-4364-b4a1-a192b4572a42",
   "metadata": {},
   "outputs": [],
   "source": [
    " "
   ]
  }
 ],
 "metadata": {
  "kernelspec": {
   "display_name": "Python 3 (ipykernel)",
   "language": "python",
   "name": "python3"
  },
  "language_info": {
   "codemirror_mode": {
    "name": "ipython",
    "version": 3
   },
   "file_extension": ".py",
   "mimetype": "text/x-python",
   "name": "python",
   "nbconvert_exporter": "python",
   "pygments_lexer": "ipython3",
   "version": "3.12.3"
  }
 },
 "nbformat": 4,
 "nbformat_minor": 5
}
