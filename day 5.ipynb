{
 "cells": [
  {
   "cell_type": "code",
   "execution_count": 1,
   "id": "2d34f35d-cdf6-46a3-a8f1-65ac4837050c",
   "metadata": {},
   "outputs": [
    {
     "name": "stdout",
     "output_type": "stream",
     "text": [
      "File doesn't exist\n"
     ]
    }
   ],
   "source": [
    "import os\n",
    "try:\n",
    "    with open(\"sample.txt\",'r') as f:\n",
    "        a=f.read()\n",
    "        print(a)\n",
    "except FileNotFoundError:\n",
    "    print(\"File doesn't exist\")"
   ]
  },
  {
   "cell_type": "code",
   "execution_count": 4,
   "id": "33235fd3-9f50-460f-8daf-1978eabc7464",
   "metadata": {},
   "outputs": [
    {
     "name": "stdout",
     "output_type": "stream",
     "text": [
      "File doesn't exist\n"
     ]
    }
   ],
   "source": [
    "import os\n",
    "try:\n",
    "    with open(\"sample.txt\",'r') as f:\n",
    "        a=f.read(\"apple,banana,watermelon,orange\")\n",
    "        print(a)\n",
    "        f.write(\"Guava\")\n",
    "        \n",
    "except FileNotFoundError:\n",
    "    print(\"File doesn't exist\")"
   ]
  },
  {
   "cell_type": "code",
   "execution_count": 5,
   "id": "acbd9598-f0a9-4afb-adc3-cdbb142e6498",
   "metadata": {},
   "outputs": [
    {
     "name": "stdout",
     "output_type": "stream",
     "text": [
      "this laptop have i5 8gm Ram 1TB SSD\n"
     ]
    }
   ],
   "source": [
    "class laptop:\n",
    "    def config(self):\n",
    "        print(\"this laptop have i5 8gm Ram 1TB SSD\")\n",
    "\n",
    "hp=laptop()\n",
    "\n",
    "hp.config()"
   ]
  },
  {
   "cell_type": "code",
   "execution_count": 7,
   "id": "4c38312f-8cbc-4069-a67c-fa038da054e2",
   "metadata": {},
   "outputs": [
    {
     "name": "stdout",
     "output_type": "stream",
     "text": [
      "this laptop have i5 8gm Ram 1TB SSD\n",
      "2\n"
     ]
    }
   ],
   "source": [
    "class laptop:\n",
    "    a=2\n",
    "    def config(self):\n",
    "        print(\"this laptop have i5 8gm Ram 1TB SSD\")\n",
    "\n",
    "hp=laptop()\n",
    "\n",
    "hp.config()\n",
    "print(hp.a)"
   ]
  },
  {
   "cell_type": "code",
   "execution_count": 8,
   "id": "29152c40-4238-4680-87b6-4a569d56e1b8",
   "metadata": {},
   "outputs": [
    {
     "name": "stdout",
     "output_type": "stream",
     "text": [
      "this laptop have i5 8gm Ram 1TB SSD\n",
      "2\n",
      "3\n",
      "2\n"
     ]
    }
   ],
   "source": [
    "class laptop:\n",
    "    a=2\n",
    "    def config(self):\n",
    "        print(\"this laptop have i5 8gm Ram 1TB SSD\")\n",
    "\n",
    "hp=laptop()\n",
    "dell=laptop()\n",
    "lenovo=laptop()\n",
    "\n",
    "hp.config()\n",
    "print(hp.a)\n",
    "hp.a=hp.a+1\n",
    "print(hp.a)\n",
    "print(dell.a)"
   ]
  },
  {
   "cell_type": "code",
   "execution_count": 41,
   "id": "e3c313a6-1ccc-44ac-93d3-0f101926b7c4",
   "metadata": {},
   "outputs": [
    {
     "name": "stdout",
     "output_type": "stream",
     "text": [
      "configuration of the laptop is:\n",
      "processor i5\n",
      "ram 8\n",
      "storage 512\n"
     ]
    }
   ],
   "source": [
    "class Laptop:\n",
    "    def __init__(self,p,r,s):\n",
    "        self.processor=p\n",
    "        self.ram=r\n",
    "        self.storage=s\n",
    "\n",
    "    def config(self):\n",
    "        print(\"configuration of the laptop is:\")\n",
    "        print(\"processor\",self.processor)\n",
    "        print(\"ram\",self.ram)\n",
    "        print(\"storage\",self.storage)\n",
    "\n",
    "if __name__==\"__main__\":\n",
    "    hp = Laptop(\"i5\",8,512)\n",
    "    hp.config()"
   ]
  },
  {
   "cell_type": "code",
   "execution_count": 61,
   "id": "36c235e4-2b8e-4ff0-8798-34196c09f64a",
   "metadata": {},
   "outputs": [
    {
     "name": "stdout",
     "output_type": "stream",
     "text": [
      "Student's marks is:\n",
      "Name: Dev\n",
      "Marks: [90, 45, 89, 87, 91]\n",
      "Average marks of Dev : 80.4\n"
     ]
    }
   ],
   "source": [
    "class Student:\n",
    "    def __init__(self, name, marks):\n",
    "       \n",
    "        self.name = name\n",
    "        self.marks = marks\n",
    "\n",
    "    def print_marks(self):\n",
    "      print(\"Student's marks is:\")\n",
    "      print(\"Name:\",self.name)\n",
    "      print(\"Marks:\",self.marks)\n",
    "    \n",
    "    def calculate_average(self):\n",
    "       \n",
    "        return sum(self.marks) / len(self.marks)\n",
    "\n",
    "student_1 = Student(\"Dev\", [90,45,89,87,91])\n",
    "student_1.print_marks()\n",
    "average_marks = student_1.calculate_average()\n",
    "print(\"Average marks of\", student_1.name, \":\", average_marks)"
   ]
  },
  {
   "cell_type": "code",
   "execution_count": null,
   "id": "88dc0337-27fb-4095-8f3d-1104ad6d3912",
   "metadata": {},
   "outputs": [],
   "source": [
    "class demo:\n",
    "    def __int__(self,a,b,c):\n",
    "        self.x=a\n",
    "        self.y=b\n",
    "        self.z=c\n",
    "        def output_Z(self):\n",
    "            print(self.__z)\n",
    "\n",
    "        def output__X(self):\n",
    "            print(self.x)\n",
    "\n",
    "        def output"
   ]
  },
  {
   "cell_type": "code",
   "execution_count": 1,
   "id": "0f77ea3c-222e-4b2f-b1b5-e6a99d1e4134",
   "metadata": {},
   "outputs": [
    {
     "name": "stdout",
     "output_type": "stream",
     "text": [
      "this is fun1\n",
      "this is fun2\n",
      "this is fun3\n",
      "this is fun4\n",
      "this is fun1\n"
     ]
    }
   ],
   "source": [
    "class a:\n",
    "    def fun1(self):\n",
    "        print(\"this is fun1\")\n",
    "    def fun2(self):\n",
    "        print(\"this is fun2\")\n",
    "\n",
    "class b(a):\n",
    "    def fun3(self):\n",
    "        print(\"this is fun3\")\n",
    "    def fun4(self):\n",
    "        print(\"this is fun4\")\n",
    "\n",
    "if __name__==\"__main__\":\n",
    "    ob1=a()\n",
    "    ob2=b()\n",
    "\n",
    "    ob1.fun1()\n",
    "    ob1.fun2()\n",
    "    ob2.fun3()\n",
    "    ob2.fun4()\n",
    "    ob2.fun1()     "
   ]
  },
  {
   "cell_type": "code",
   "execution_count": 2,
   "id": "04601a94-d549-484b-82dc-6187f82c8a90",
   "metadata": {},
   "outputs": [
    {
     "name": "stdout",
     "output_type": "stream",
     "text": [
      "this is fun1\n",
      "this is fun2\n",
      "this is fun3\n",
      "this is fun4\n",
      "this is fun1\n",
      "this is fun1\n"
     ]
    }
   ],
   "source": [
    "class a:\n",
    "    def fun1(self):\n",
    "        print(\"this is fun1\")\n",
    "    def fun2(self):\n",
    "        print(\"this is fun2\")\n",
    "\n",
    "class b(a):\n",
    "    def fun3(self):\n",
    "        print(\"this is fun3\")\n",
    "    def fun4(self):\n",
    "        print(\"this is fun4\")\n",
    "\n",
    "class c(b):\n",
    "    def fun5(self):\n",
    "        print(\"this is fun5\")\n",
    "    def fun6(self):\n",
    "        print(\"this is fun6\")\n",
    "\n",
    "if __name__==\"__main__\":\n",
    "    ob1=a()\n",
    "    ob2=b()\n",
    "    ob3=c()\n",
    "\n",
    "    ob1.fun1()\n",
    "    ob1.fun2()\n",
    "    ob2.fun3()\n",
    "    ob2.fun4()\n",
    "    ob2.fun1() \n",
    "    ob3.fun1()"
   ]
  },
  {
   "cell_type": "code",
   "execution_count": 5,
   "id": "7da14b1c-9c2a-482b-943e-b2614294f1dc",
   "metadata": {},
   "outputs": [
    {
     "name": "stdout",
     "output_type": "stream",
     "text": [
      "constructor of class A\n",
      "constructor of class C\n",
      "constructor of class B\n",
      "constructor of class D\n"
     ]
    }
   ],
   "source": [
    "class a:\n",
    "    def __init__(self):\n",
    "        print(\"constructor of class A\")\n",
    "\n",
    "class b:\n",
    "    def __init__(self):\n",
    "        print(\"constructor of class B\")\n",
    "\n",
    "class c:\n",
    "    def __init__(self):\n",
    "        print(\"constructor of class C\")\n",
    "\n",
    "class d:\n",
    "    def __init__(self):\n",
    "        print(\"constructor of class D\")\n",
    "\n",
    "if __name__==\"__main__\":\n",
    "    ob1=a()\n",
    "    ob2=c()\n",
    "    ob3=b()\n",
    "    ob4=d()"
   ]
  },
  {
   "cell_type": "code",
   "execution_count": 25,
   "id": "0b950b04-d528-4f5c-b358-83a4a4fc8ab6",
   "metadata": {},
   "outputs": [
    {
     "name": "stdout",
     "output_type": "stream",
     "text": [
      "constructor of class C\n"
     ]
    }
   ],
   "source": [
    "class a:\n",
    "    def __init__(self):\n",
    "        print(\"constructor of class A\")\n",
    "    def show(self):\n",
    "        print(\"printing the show of A\")\n",
    "\n",
    "class b:\n",
    "    def __init__(self):\n",
    "        print(\"constructor of class B\")\n",
    "    def show(self):\n",
    "        print(\"printing the show of B\")\n",
    "\n",
    "class c:\n",
    "    def __init__(self):\n",
    "        print(\"constructor of class C\")\n",
    "    def show(self):\n",
    "        print(\"printing the show of C\")\n",
    "\n",
    "class d:\n",
    "    def __init__(self):\n",
    "        print(\"constructor of class D\")\n",
    "    def show(self):\n",
    "        print(\"printing the show of D\")\n",
    "    \n",
    "\n",
    "if __name__==\"__main__\":\n",
    "    ob=c()\n",
    "    \n",
    "    "
   ]
  },
  {
   "cell_type": "code",
   "execution_count": 47,
   "id": "ff559ae2-c576-4330-8ca9-841feba73c23",
   "metadata": {},
   "outputs": [
    {
     "name": "stdout",
     "output_type": "stream",
     "text": [
      "configuration of the laptop is:\n",
      "processor: i5\n",
      "ram: 8\n",
      "storage: 512\n",
      "Configuration of professional laptop:\n",
      "batterybackup 8hrs\n",
      "processor intel core i5\n",
      "ram 16\n",
      "storage 512\n",
      "configuration of gaming laptop:\n",
      "graphiccard RTX 3080\n",
      "processor AMD 9\n",
      "ram 32\n",
      "storage 1024\n"
     ]
    }
   ],
   "source": [
    "class Laptop:\n",
    "    def __init__(self,p,r,s):\n",
    "        self.processor=p\n",
    "        self.ram=r\n",
    "        self.storage=s\n",
    "        \n",
    "    def config(self):\n",
    "        print(\"configuration of the laptop is:\")\n",
    "        print(\"processor:\",self.processor)\n",
    "        print(\"ram:\",self.ram)\n",
    "        print(\"storage:\",self.storage)\n",
    "\n",
    "if __name__==\"__main__\":\n",
    "    ob1 = Laptop(\"i5\", 8, 512)\n",
    "    ob1.config()\n",
    "\n",
    "\n",
    "class ProfessionalLaptop:\n",
    "    def __init__(self,bb,p,r,s):\n",
    "        self.batterybackup=bb\n",
    "        self.processor=p\n",
    "        self.ram=r\n",
    "        self.storage=s\n",
    "\n",
    "    def config(self):\n",
    "        print(\"Configuration of professional laptop:\")\n",
    "        print(\"batterybackup\",self.batterybackup)\n",
    "        print(\"processor\",self.processor)\n",
    "        print(\"ram\",self.ram)\n",
    "        print(\"storage\",self.storage)\n",
    "\n",
    "if __name__==\"__main__\":\n",
    "    ob2 = ProfessionalLaptop(\"8hrs\",\"intel core i5\",16,512)\n",
    "    ob2.config()\n",
    "\n",
    "\n",
    "class GamingLaptop:\n",
    "    def __init__(self,gc,p,r,s):\n",
    "        self.graphiccard=gc\n",
    "        self.processor=p\n",
    "        self.ram=r\n",
    "        self.storage=s\n",
    "\n",
    "    def config(self):\n",
    "        print(\"configuration of gaming laptop:\")\n",
    "        print(\"graphiccard\",self.graphiccard)\n",
    "        print(\"processor\",self.processor)\n",
    "        print(\"ram\",self.ram)\n",
    "        print(\"storage\",self.storage)\n",
    "\n",
    "if __name__==\"__main__\":\n",
    "    ob3 = GamingLaptop(\"RTX 3080\",\"AMD 9\",32,1024)\n",
    "    ob3.config()        "
   ]
  },
  {
   "cell_type": "code",
   "execution_count": 34,
   "id": "20781ec1-fb0d-44f4-9217-5f7930180ad8",
   "metadata": {},
   "outputs": [
    {
     "name": "stdout",
     "output_type": "stream",
     "text": [
      "Configuration of the laptop:\n",
      "Processor: i5\n",
      "RAM: 8 GB\n",
      "Storage: 512 GB\n",
      "Configuration of professional laptop:\n",
      "Battery Backup: 8hrs\n",
      "Processor: Intel Core i5\n",
      "RAM: 16 GB\n",
      "Storage: 512 GB\n",
      "Configuration of gaming laptop:\n",
      "Graphic Card: RTX 3080\n",
      "Processor: AMD Ryzen 9\n",
      "RAM: 32 GB\n",
      "Storage: 1024 GB\n"
     ]
    }
   ],
   "source": [
    "class Laptop:\n",
    "    def __init__(self, p, r, s):\n",
    "        self.processor = p\n",
    "        self.ram = r\n",
    "        self.storage = s\n",
    "\n",
    "    def config(self):\n",
    "        print(\"Configuration of the laptop:\")\n",
    "        print(\"Processor:\", self.processor)\n",
    "        print(\"RAM:\", self.ram, \"GB\")\n",
    "        print(\"Storage:\", self.storage, \"GB\")\n",
    "\n",
    "if __name__ == \"__main__\":\n",
    "    ob1 = Laptop(\"i5\", 8, 512)\n",
    "    ob1.config()\n",
    "\n",
    "\n",
    "class ProfessionalLaptop:\n",
    "    def __init__(self, bb, p, r, s):\n",
    "        self.battery_backup = bb\n",
    "        self.processor = p\n",
    "        self.ram = r\n",
    "        self.storage = s\n",
    "\n",
    "    def config(self):\n",
    "        print(\"Configuration of professional laptop:\")\n",
    "        print(\"Battery Backup:\", self.battery_backup)\n",
    "        print(\"Processor:\", self.processor)\n",
    "        print(\"RAM:\", self.ram, \"GB\")\n",
    "        print(\"Storage:\", self.storage, \"GB\")\n",
    "\n",
    "if __name__ == \"__main__\":\n",
    "    professional_lab = ProfessionalLaptop(\"8hrs\", \"Intel Core i5\", 16, 512)\n",
    "    professional_lab.config()\n",
    "\n",
    "\n",
    "class GamingLaptop:\n",
    "    def __init__(self, gc, p, r, s):\n",
    "        self.graphic_card = gc\n",
    "        self.processor = p\n",
    "        self.ram = r\n",
    "        self.storage = s\n",
    "\n",
    "    def config(self):\n",
    "        print(\"Configuration of gaming laptop:\")\n",
    "        print(\"Graphic Card:\", self.graphic_card)\n",
    "        print(\"Processor:\", self.processor)\n",
    "        print(\"RAM:\", self.ram, \"GB\")\n",
    "        print(\"Storage:\", self.storage, \"GB\")\n",
    "\n",
    "if __name__ == \"__main__\":\n",
    "    gaming_lab = GamingLaptop(\"RTX 3080\", \"AMD Ryzen 9\", 32, 1024)\n",
    "    gaming_lab.config()"
   ]
  },
  {
   "cell_type": "code",
   "execution_count": 44,
   "id": "3063f1d7-7b07-4ab8-b0b1-38ea68931b46",
   "metadata": {},
   "outputs": [
    {
     "name": "stdout",
     "output_type": "stream",
     "text": [
      "Professional laptop specifications: 8hr i9 8 512\n",
      "Gaming laptop specifications: 9 i7 16 512\n"
     ]
    }
   ],
   "source": [
    "class laptop:\n",
    "    def __init__(self, p, r, s):\n",
    "        self.processor = p\n",
    "        self.ram = r\n",
    "        self.storage = s\n",
    "          \n",
    "\n",
    "class professional(laptop):\n",
    "    def __init__(self, bat, p, r, s):\n",
    "        self.batterybackup = bat\n",
    "        super().__init__(p, r, s)\n",
    "\n",
    "   \n",
    "class gaming(laptop):\n",
    "    def __init__(self, graphic, p, r, s):\n",
    "        self.graphiccard = graphic\n",
    "        super().__init__(p, r, s)\n",
    "        \n",
    "obj1 = laptop('i7', 16, 512)\n",
    "obj2 = professional('8hr', 'i9', 8, 512)\n",
    "obj3 = gaming(\"9\", 'i7', '16', 512)\n",
    "\n",
    "print(\"Professional laptop specifications:\", obj2.batterybackup, obj2.processor, obj2.ram, obj2.storage)\n",
    "print(\"Gaming laptop specifications:\", obj3.graphiccard, obj3.processor, obj3.ram, obj3.storage)"
   ]
  },
  {
   "cell_type": "code",
   "execution_count": 49,
   "id": "edccd556-2060-4f1c-8bcf-3d8e7bd72e6c",
   "metadata": {},
   "outputs": [
    {
     "name": "stdout",
     "output_type": "stream",
     "text": [
      "Ticket booked Fare Price will be:  6550\n"
     ]
    }
   ],
   "source": [
    "class ticket:\n",
    "   \n",
    "    def __init__(self,D):\n",
    "        self.distance = int(D)\n",
    "        self.farePrice = None\n",
    "\n",
    "class gen(ticket):\n",
    "    def __init__(self,D):\n",
    "        super().__init__(D)\n",
    "    def print_ticket(self):\n",
    "        self.farePrice=50+(self.distance*2)\n",
    "        return self.farePrice\n",
    "        \n",
    "\n",
    "\n",
    "class slp(gen):\n",
    "    def __init__(self,D):\n",
    "        super().__init__(D)\n",
    "\n",
    "    def print_ticket(self):\n",
    "        self.farePrice=super().print_ticket()+(2*self.distance)\n",
    "        return self.farePrice\n",
    "\n",
    "class AC(slp):\n",
    "    def __init__(self,D):\n",
    "        super().__init__(D)\n",
    "    def print_ticket(self):\n",
    "        self.farePrice=super().print_ticket()+(4*self.distance)\n",
    "        return self.farePrice\n",
    "\n",
    "class FC(AC):\n",
    "    def __init__(self,D):\n",
    "        super().__init__(D)\n",
    "    def print_ticket(self):\n",
    "        self.farePrice=super().print_ticket()+(5*self.distance)\n",
    "        return self.farePrice\n",
    "\n",
    "\n",
    "jur = FC(500)\n",
    "print(\"Ticket booked Fare Price will be: \",jur.print_ticket())"
   ]
  },
  {
   "cell_type": "code",
   "execution_count": null,
   "id": "9a13c823-c680-4400-9f22-c97df397720a",
   "metadata": {},
   "outputs": [],
   "source": []
  }
 ],
 "metadata": {
  "kernelspec": {
   "display_name": "Python 3 (ipykernel)",
   "language": "python",
   "name": "python3"
  },
  "language_info": {
   "codemirror_mode": {
    "name": "ipython",
    "version": 3
   },
   "file_extension": ".py",
   "mimetype": "text/x-python",
   "name": "python",
   "nbconvert_exporter": "python",
   "pygments_lexer": "ipython3",
   "version": "3.12.3"
  }
 },
 "nbformat": 4,
 "nbformat_minor": 5
}
