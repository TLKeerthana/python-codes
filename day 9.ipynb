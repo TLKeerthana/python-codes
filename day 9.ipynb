{
 "cells": [
  {
   "cell_type": "code",
   "execution_count": 5,
   "id": "16380c5e-a3a9-4ca4-bab5-48eff40b6e14",
   "metadata": {},
   "outputs": [
    {
     "name": "stdout",
     "output_type": "stream",
     "text": [
      "Original: ABCDEF\n",
      "Reversed: FEDCBA\n"
     ]
    }
   ],
   "source": [
    "def reverse_str(input_str):\n",
    "    stack = []\n",
    "\n",
    "    for char in input_str:\n",
    "        stack.append(char)\n",
    "    \n",
    "    reversed_str = ''\n",
    "    while stack:\n",
    "        reversed_str += stack.pop()\n",
    "\n",
    "    return reversed_str\n",
    "\n",
    "input_str = \"ABCDEF\"\n",
    "reversed_str = reverse_str(input_str)\n",
    "print(\"Original:\", input_str)\n",
    "print(\"Reversed:\", reversed_str)"
   ]
  },
  {
   "cell_type": "code",
   "execution_count": 16,
   "id": "ce5bedc7-a512-4a43-90fd-a63b9b962d79",
   "metadata": {},
   "outputs": [
    {
     "name": "stdin",
     "output_type": "stream",
     "text": [
      " car\n"
     ]
    },
    {
     "name": "stdout",
     "output_type": "stream",
     "text": [
      "rac"
     ]
    }
   ],
   "source": [
    "#reverse a string using stack\n",
    "a=input()\n",
    "s=[]\n",
    "for e in a:\n",
    "    s.append(e)\n",
    "\n",
    "while len(s)>0:\n",
    "    print(s.pop(),end=\"\")\n",
    "   "
   ]
  },
  {
   "cell_type": "code",
   "execution_count": 22,
   "id": "c99130ad-058c-47ae-82dc-33a3a7dafc03",
   "metadata": {},
   "outputs": [
    {
     "name": "stdin",
     "output_type": "stream",
     "text": [
      " i m keeru\n"
     ]
    },
    {
     "name": "stdout",
     "output_type": "stream",
     "text": [
      "keeru m i "
     ]
    }
   ],
   "source": [
    "#reverse a string using a stack(word by word)\n",
    "a= input()\n",
    "s=[]\n",
    "for e in a.split():\n",
    "    s.append(e)\n",
    "\n",
    "while len(s)>0:\n",
    "    print(s.pop(),end=\" \")"
   ]
  },
  {
   "cell_type": "code",
   "execution_count": null,
   "id": "0f42b437-a405-45ef-b876-3c875dbc0704",
   "metadata": {},
   "outputs": [],
   "source": [
    "1.Create an empty stack to store operators temporarily.\n",
    "2.Create an empty list to store the postfix expression.\n",
    "3.Tokenize the infix expression into individual tokens (operands, operators, parentheses).\n",
    "4.Iterate through each token in the infix expression from left to right:\n",
    "•Operand: If the token is an operand (number or variable), add it to the postfix expression list.\n",
    "•Left Parenthesis: If the token is a left parenthesis, push it onto the stack.\n",
    "•Right Parenthesis: If the token is a right parenthesis, pop operators from the stack and add them to the postfix expression list until a left parenthesis is encountered. Discard the left parenthesis.\n",
    "•Operator:\n",
    "•While there are operators at the top of the stack with higher precedence than or equal to the current operator, pop them from the stack and add them to the postfix expression list.\n",
    "•Push the current operator onto the stack.\n",
    "5.Pop any remaining operators from the stack and add them to the postfix expression list.\n",
    "6.The resulting list is the postfix expression."
   ]
  },
  {
   "cell_type": "code",
   "execution_count": 3,
   "id": "ada5290c-2d5c-420e-994a-3765c0fea087",
   "metadata": {},
   "outputs": [
    {
     "name": "stdin",
     "output_type": "stream",
     "text": [
      " a+b\n"
     ]
    },
    {
     "name": "stdout",
     "output_type": "stream",
     "text": [
      " ab+\n"
     ]
    }
   ],
   "source": [
    "exp = input()\n",
    "s=[]\n",
    "result=\" \"\n",
    "for e in exp:\n",
    "    if e.isalnum():\n",
    "        result +=e\n",
    "    elif e == '(': \n",
    "        s.append(e)\n",
    "    elif e == ')':\n",
    "        for e in s:\n",
    "            while s[-1] != '(':\n",
    "                result +=s.pop()\n",
    "            s.pop()\n",
    "    else:\n",
    "        while s and (prec(e)<prec(s[-1]) or \n",
    "                    (prec(e)<prec(s[-1]) and asoc(e)=='L')):\n",
    "            result +=s.pop()\n",
    "        s.append(e)\n",
    "while s:\n",
    "    result +=s.pop()\n",
    "\n",
    "print(result)\n",
    "        \n",
    "    "
   ]
  },
  {
   "cell_type": "code",
   "execution_count": null,
   "id": "23e24fe0-2e0b-45ac-9070-3a060f36712b",
   "metadata": {},
   "outputs": [],
   "source": [
    "#In a arcade game, there is a king who got spelled by a witch that whenever he eat he have to take care of what is sequence of his food intake.\n",
    "If he acts similar food one after other it will cancel out the its effect and total energy was decreased.\n",
    "Your task is to determine the total energy of the king after his meal.\n",
    "\n",
    "example:\n",
    "[\"apple\",\"dal\",\"chapati\",\"rice\",\"rice\",\"apple\",\"apple\",\"dal\",\"rice\",\"dal\",\"chapati\",\"chapati\"]\n",
    "\n",
    "consider that energy released by each item will be same which is 1 unit\n",
    "\n",
    "so that total energy intake is 6 unit as per above example.\n",
    "[\"apple\",\"dal\",\"chapati\",\"dal\",\"rice\",\"dal\"]\n",
    "\n",
    "write a code to find the energy stored by the king after have all the food."
   ]
  },
  {
   "cell_type": "code",
   "execution_count": 8,
   "id": "9ee832ba-b9e0-458d-ab5f-0015ea8b8fbe",
   "metadata": {},
   "outputs": [
    {
     "name": "stdout",
     "output_type": "stream",
     "text": [
      "Total energy stored by the king: 6 units\n"
     ]
    }
   ],
   "source": [
    "def s(food_list):\n",
    "    stack = []\n",
    "    for food in food_list:\n",
    "        if stack and stack[-1] == food:\n",
    "            stack.pop()  \n",
    "        else:\n",
    "            stack.append(food)\n",
    "    return len(stack)  \n",
    "\n",
    "meal = [\"apple\", \"dal\", \"chapati\", \"rice\",\"rice\", \"apple\", \"apple\", \"dal\", \"rice\", \"dal\", \"chapati\", \"chapati\"]\n",
    "total_energy = s(meal)\n",
    "print(\"Total energy stored by the king:\", total_energy, \"units\")"
   ]
  },
  {
   "cell_type": "code",
   "execution_count": 4,
   "id": "f9a7f1e3-cf6f-4450-86a8-8e89b0d82d47",
   "metadata": {},
   "outputs": [
    {
     "name": "stdin",
     "output_type": "stream",
     "text": [
      " A D C R R A A D R D C C\n"
     ]
    },
    {
     "name": "stdout",
     "output_type": "stream",
     "text": [
      "6 ['A', 'D', 'C', 'D', 'R', 'D']\n"
     ]
    }
   ],
   "source": [
    "a= [item for item in input().split()]\n",
    "s=[]\n",
    "for item in a:\n",
    "    if not s:\n",
    "        s.append(item)\n",
    "    elif s[-1] == item:\n",
    "        s.pop()\n",
    "    else:\n",
    "        s.append(item)\n",
    "print(len(s),s)"
   ]
  },
  {
   "cell_type": "code",
   "execution_count": 7,
   "id": "d5261af1-e7c9-466f-a699-476071f4c250",
   "metadata": {},
   "outputs": [
    {
     "name": "stdin",
     "output_type": "stream",
     "text": [
      "  \"apple\" \"dal\" \"chapati\" \"rice\" \"rice\" \"apple\" \"apple\" \"dal\" \"rice\" \"dal\" \"chapati\" \"chapati\"\n"
     ]
    },
    {
     "name": "stdout",
     "output_type": "stream",
     "text": [
      "['\"apple\"', '\"dal\"', '\"chapati\"', '\"rice\"', '\"rice\"', '\"apple\"', '\"apple\"', '\"dal\"', '\"rice\"', '\"dal\"', '\"chapati\"', '\"chapati\"']\n",
      "6 ['\"apple\"', '\"dal\"', '\"chapati\"', '\"dal\"', '\"rice\"', '\"dal\"']\n"
     ]
    }
   ],
   "source": [
    "a= [item for item in input().split()]\n",
    "print(a)\n",
    "s=[]\n",
    "for item in a:\n",
    "    if not s:\n",
    "        s.append(item)\n",
    "    elif s[-1] == item:\n",
    "        s.pop()\n",
    "    else:\n",
    "        s.append(item)\n",
    "print(len(s),s)"
   ]
  },
  {
   "cell_type": "code",
   "execution_count": 1,
   "id": "0bf2a593-57bc-48db-a9e7-3cd96203db75",
   "metadata": {},
   "outputs": [
    {
     "name": "stdout",
     "output_type": "stream",
     "text": [
      "True\n",
      "True\n"
     ]
    }
   ],
   "source": [
    "#open and closing of brackets should be balanced {()()}, {({})}\n",
    "\n",
    "def is_balanced(string):\n",
    "    stack = []\n",
    "    for char in string:\n",
    "        if char in ['(', '[', '{']:\n",
    "            stack.append(char)\n",
    "        elif char in [')', ']', '}']:\n",
    "            if not stack:\n",
    "                return False\n",
    "            if char == ')' and stack[-1] == '(':\n",
    "                stack.pop()\n",
    "            elif char == ']' and stack[-1] == '[':\n",
    "                stack.pop()\n",
    "            elif char == '}' and stack[-1] == '{':\n",
    "                stack.pop()\n",
    "            else:\n",
    "                return False\n",
    "    return len(stack) == 0\n",
    "print(is_balanced(\"{()()}\"))  \n",
    "print(is_balanced(\"{({})}\"))  "
   ]
  },
  {
   "cell_type": "code",
   "execution_count": 28,
   "id": "39150408-2ec1-48de-8948-3f303f11b315",
   "metadata": {},
   "outputs": [
    {
     "name": "stdout",
     "output_type": "stream",
     "text": [
      "False\n",
      "True\n",
      "True\n",
      "True\n"
     ]
    }
   ],
   "source": [
    "def check_balance(s):\n",
    "\n",
    "    open_braces = 0\n",
    "    close_braces = 0\n",
    "    \n",
    "    for e in s:\n",
    "        if e == '(':\n",
    "            open_braces += 1\n",
    "        elif e == ')':\n",
    "            close_braces += 1\n",
    "        if close_braces > open_braces:\n",
    "            return False\n",
    "    return open_braces==close_braces\n",
    "\n",
    "print(check_balance(\"(\")) \n",
    "print(check_balance(\"{[()]}\")) \n",
    "print(check_balance(\"([)]\")) \n",
    "print(check_balance(\"({}[])\")) "
   ]
  },
  {
   "cell_type": "code",
   "execution_count": 21,
   "id": "2b606eb7-48e2-450f-8a4b-3d6f85fd6429",
   "metadata": {},
   "outputs": [
    {
     "name": "stdout",
     "output_type": "stream",
     "text": [
      "True\n",
      "True\n",
      "False\n",
      "True\n"
     ]
    }
   ],
   "source": [
    "def check_balance(s):\n",
    "    stack = []\n",
    "    for e in s:\n",
    "        if e == '(':\n",
    "            stack.append('(')\n",
    "        elif e == ')':\n",
    "            if not stack or stack.pop() != '(':\n",
    "                return False\n",
    "    return len(stack) == 0\n",
    "\n",
    "print(check_balance(\"()\")) \n",
    "print(check_balance(\"{[()]}\")) \n",
    "print(check_balance(\"([]\"))  \n",
    "print(check_balance(\"({}[])\"))  "
   ]
  },
  {
   "cell_type": "code",
   "execution_count": 27,
   "id": "33723405-cba3-47aa-9218-2047b776ee61",
   "metadata": {},
   "outputs": [
    {
     "name": "stdin",
     "output_type": "stream",
     "text": [
      " {[()]}\n"
     ]
    },
    {
     "name": "stdout",
     "output_type": "stream",
     "text": [
      "valid\n"
     ]
    }
   ],
   "source": [
    "a=input()\n",
    "s=[]\n",
    "for e in s:\n",
    "    if e == '(' or e == '{' or e == '[':\n",
    "        s.append(e)\n",
    "    elif e == ')' or e == '}' or e == ']':\n",
    "        if e == s[-1]:\n",
    "            s.pop()\n",
    "        else:\n",
    "            break;\n",
    "    else:\n",
    "        continue\n",
    "\n",
    "if not s:\n",
    "    print(\"valid\")\n",
    "else:\n",
    "    print(\"invalid\")"
   ]
  },
  {
   "cell_type": "code",
   "execution_count": 38,
   "id": "e69942c0-560a-47fa-ae6e-19d656688b31",
   "metadata": {},
   "outputs": [
    {
     "name": "stdin",
     "output_type": "stream",
     "text": [
      " (()}\n"
     ]
    },
    {
     "name": "stdout",
     "output_type": "stream",
     "text": [
      "invalid\n"
     ]
    }
   ],
   "source": [
    "a=input()\n",
    "s=[]\n",
    "for e in a:\n",
    "    if e == '(' or e == '{' or e == '[':\n",
    "        s.append(e)\n",
    "    elif (e == ')' and s[-1] == '(') or (e == '}' and s[-1] == '{') or (e == ']' and s[-1] == '['):\n",
    "        if s:\n",
    "            s.pop()\n",
    "        else:\n",
    "            s.append(e)\n",
    "            break;\n",
    "    else:\n",
    "        continue\n",
    "\n",
    "if not s:\n",
    "    print(\"valid\")\n",
    "else:\n",
    "    print(\"invalid\")"
   ]
  },
  {
   "cell_type": "code",
   "execution_count": null,
   "id": "7576666e-9f46-4014-9727-ad0bd5516458",
   "metadata": {},
   "outputs": [],
   "source": []
  }
 ],
 "metadata": {
  "kernelspec": {
   "display_name": "Python 3 (ipykernel)",
   "language": "python",
   "name": "python3"
  },
  "language_info": {
   "codemirror_mode": {
    "name": "ipython",
    "version": 3
   },
   "file_extension": ".py",
   "mimetype": "text/x-python",
   "name": "python",
   "nbconvert_exporter": "python",
   "pygments_lexer": "ipython3",
   "version": "3.12.3"
  }
 },
 "nbformat": 4,
 "nbformat_minor": 5
}
