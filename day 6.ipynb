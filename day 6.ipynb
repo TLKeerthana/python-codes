{
 "cells": [
  {
   "cell_type": "code",
   "execution_count": 3,
   "id": "6879c232-28fb-4265-90d8-1bbc3593d698",
   "metadata": {},
   "outputs": [
    {
     "name": "stdout",
     "output_type": "stream",
     "text": [
      "Car details: v8 ABC123 500000 Red Sedan 5 200\n",
      "truck details: Diesel XYZ456 80000 BLUE 2 5000\n"
     ]
    }
   ],
   "source": [
    "class Vehicle:\n",
    "    def __init__(self,e,rp,p,c):\n",
    "        self.engine=e\n",
    "        self.reg_plate=rp\n",
    "        self.price=p\n",
    "        self.colour=c\n",
    "\n",
    "class Car(Vehicle):\n",
    "    def __init__(self,e,rp,p,c,t,nop,ms):\n",
    "        super().__init__(e,rp,p,c)\n",
    "        self.type=t\n",
    "        self.no_of_passenger=nop\n",
    "        self.max_speed=ms\n",
    "\n",
    "class Truck(Vehicle):\n",
    "    def __init__(self,e,rp,p,c,noa,lc):\n",
    "        super().__init__(e,rp,p,c)\n",
    "        self.no_of_axle=noa\n",
    "        self.load_capacity=lc\n",
    "\n",
    "obj1 = Vehicle(\"v8\",\"ACD234\", 5000, \"ORANGE\")\n",
    "obj2 = Car(\"v8\", \"ABC123\", 500000, \"Red\", \"Sedan\", 5, 200)\n",
    "obj3 = Truck(\"Diesel\", \"XYZ456\", 80000, \"BLUE\", 2, 5000)\n",
    "\n",
    "print(\"Car details:\", obj2.engine, obj2.reg_plate, obj2.price, obj2.colour, obj2.type, obj2.no_of_passenger, obj2.max_speed)\n",
    "print(\"truck details:\", obj3.engine, obj3.reg_plate, obj3.price, obj3.colour, obj3.no_of_axle, obj3.load_capacity)\n",
    "\n"
   ]
  },
  {
   "cell_type": "code",
   "execution_count": 9,
   "id": "72a3ec66-4a10-4398-b884-c52646c0af3d",
   "metadata": {},
   "outputs": [
    {
     "name": "stdout",
     "output_type": "stream",
     "text": [
      "Developer Details:\n",
      "ID: 101\n",
      "Name: John Doe\n",
      "Salary: 60000\n",
      "Module: Frontend\n",
      "Tech: React\n",
      "Experience: 3 years\n",
      "\n",
      "Manager Details:\n",
      "ID: 102\n",
      "Name: Jane Smith\n",
      "Salary: 80000\n",
      "Project: XYZ Project\n",
      "Client Name: ABC Corp\n"
     ]
    }
   ],
   "source": [
    "class Employee:\n",
    "    def __init__(self, eid, en, es):\n",
    "        self.e_id = eid\n",
    "        self.e_name = en\n",
    "        self.e_salary = es\n",
    "\n",
    "class SStuff(Employee):  # Changed class name to follow PEP 8 naming conventions\n",
    "    def __init__(self, eid, en, es, wt, wp):\n",
    "        super().__init__(eid, en, es)\n",
    "        self.work_type = wt\n",
    "        self.work_pr = wp\n",
    "\n",
    "class Developer(Employee):\n",
    "    def __init__(self, eid, en, es, m, t, e):\n",
    "        super().__init__(eid, en, es)\n",
    "        self.module = m\n",
    "        self.tech = t\n",
    "        self.experience = e\n",
    "\n",
    "class Manager(Employee):\n",
    "    def __init__(self, eid, en, es, p, cn):\n",
    "        super().__init__(eid, en, es)\n",
    "        self.project = p\n",
    "        self.client_name = cn\n",
    "\n",
    "dev_employee = Developer(101, \"John Doe\", 60000, \"Frontend\", \"React\", \"3 years\")\n",
    "manager_employee = Manager(102, \"Jane Smith\", 80000, \"XYZ Project\", \"ABC Corp\")\n",
    "\n",
    "print(\"Developer Details:\")\n",
    "print(\"ID:\", dev_employee.e_id)\n",
    "print(\"Name:\", dev_employee.e_name)\n",
    "print(\"Salary:\", dev_employee.e_salary)\n",
    "print(\"Module:\", dev_employee.module)\n",
    "print(\"Tech:\", dev_employee.tech)\n",
    "print(\"Experience:\", dev_employee.experience)\n",
    "\n",
    "print(\"\\nManager Details:\")\n",
    "print(\"ID:\", manager_employee.e_id)\n",
    "print(\"Name:\", manager_employee.e_name)\n",
    "print(\"Salary:\", manager_employee.e_salary)\n",
    "print(\"Project:\", manager_employee.project)\n",
    "print(\"Client Name:\", manager_employee.client_name)"
   ]
  },
  {
   "cell_type": "code",
   "execution_count": 4,
   "id": "545b8e3a-9a76-43c7-acb4-53bd098f6144",
   "metadata": {},
   "outputs": [
    {
     "name": "stdout",
     "output_type": "stream",
     "text": [
      "* * * * * * * * * * \n",
      "* * * * * * * * * * \n",
      "* * * * * * * * * * \n",
      "* * * * * * * * * * \n",
      "* * * * * * * * * * \n",
      "* * * * * * * * * * \n",
      "* * * * * * * * * * \n",
      "* * * * * * * * * * \n",
      "* * * * * * * * * * \n",
      "* * * * * * * * * * \n"
     ]
    }
   ],
   "source": [
    "#square pyramid\n",
    "for x in range(0,10):\n",
    "    for y in range(0,y+1):\n",
    "        print(\"*\", end=\" \")\n",
    "    print()"
   ]
  },
  {
   "cell_type": "code",
   "execution_count": 3,
   "id": "e493b48d-ee3c-4313-b115-49598d08361b",
   "metadata": {},
   "outputs": [
    {
     "name": "stdout",
     "output_type": "stream",
     "text": [
      "* \n",
      "* * \n",
      "* * * \n",
      "* * * * \n",
      "* * * * * \n",
      "* * * * * * \n",
      "* * * * * * * \n",
      "* * * * * * * * \n",
      "* * * * * * * * * \n",
      "* * * * * * * * * * \n"
     ]
    }
   ],
   "source": [
    "#half pyramid\n",
    "for y in range(0,10):\n",
    "    for x in range(0,y+1):\n",
    "        print(\"*\" ,end=\" \")\n",
    "    print()"
   ]
  },
  {
   "cell_type": "code",
   "execution_count": 5,
   "id": "bfb83bed-447c-4579-a1ba-12af39323c0a",
   "metadata": {},
   "outputs": [
    {
     "name": "stdout",
     "output_type": "stream",
     "text": [
      "* * * * * * * * * * \n",
      "* * * * * * * * * \n",
      "* * * * * * * * \n",
      "* * * * * * * \n",
      "* * * * * * \n",
      "* * * * * \n",
      "* * * * \n",
      "* * * \n",
      "* * \n",
      "* \n",
      "\n"
     ]
    }
   ],
   "source": [
    "#inverted half pyramid\n",
    "for i in range(10+1, 0, -1):\n",
    "    for j in range(0, i - 1):\n",
    "        print(\"*\", end=' ')\n",
    "    print()"
   ]
  },
  {
   "cell_type": "code",
   "execution_count": 6,
   "id": "ffdf3d89-1dc9-489d-851d-99ad6a5eb9c5",
   "metadata": {},
   "outputs": [
    {
     "name": "stdin",
     "output_type": "stream",
     "text": [
      "enter the number of rows :  10\n"
     ]
    },
    {
     "name": "stdout",
     "output_type": "stream",
     "text": [
      "                  *  \n",
      "                 * *  \n",
      "                * * *  \n",
      "               * * * *  \n",
      "              * * * * *  \n",
      "             * * * * * *  \n",
      "            * * * * * * *  \n",
      "           * * * * * * * *  \n",
      "          * * * * * * * * *  \n",
      "         * * * * * * * * * *  \n"
     ]
    }
   ],
   "source": [
    "#full pyramid\n",
    "rows = int(input(\"enter the number of rows : \")) \n",
    "m = (2 * rows) - 2\n",
    "for i in range(0, rows):\n",
    "    for j in range(0, m):\n",
    "        print(end=\" \")\n",
    "    m = m - 1\n",
    "    for j in range(0, i + 1):\n",
    "        print(\"* \", end='')\n",
    "    print(\" \")"
   ]
  },
  {
   "cell_type": "code",
   "execution_count": 7,
   "id": "bfc81d7f-def4-4f63-9969-31327905c495",
   "metadata": {},
   "outputs": [
    {
     "name": "stdout",
     "output_type": "stream",
     "text": [
      "          *\n",
      "         * *\n",
      "        *   *\n",
      "       *     *\n",
      "      *       *\n",
      "     *         *\n",
      "    *           *\n",
      "   *             *\n",
      "  *               *\n",
      " *******************\n"
     ]
    }
   ],
   "source": [
    "#hallow triangle pattern\n",
    "for i in range(10):\n",
    "    for j in range(10-i):\n",
    "        print(' ', end='') \n",
    "    \n",
    "    for j in range(2*i+1):\n",
    "        if j==0 or j==2*i or i==10-1:\n",
    "            print('*',end='')\n",
    "        else:\n",
    "            print(' ', end='')\n",
    "    print() "
   ]
  },
  {
   "cell_type": "code",
   "execution_count": 94,
   "id": "bea58f45-34db-4933-978b-1d73519186ab",
   "metadata": {},
   "outputs": [
    {
     "name": "stdout",
     "output_type": "stream",
     "text": [
      "*         \n",
      "* *       \n",
      "*   *     \n",
      "*     *   \n",
      "* * * * * \n"
     ]
    }
   ],
   "source": [
    "n = 5\n",
    "for i in range(1, n+1):\n",
    "    for j in range(1, n+1):\n",
    "        if (i == j) or (j == 1) or (i == n):\n",
    "            print(\"*\", end=\" \")\n",
    "        else:\n",
    "            print(\" \", end=\" \")\n",
    "    print()"
   ]
  },
  {
   "cell_type": "code",
   "execution_count": 8,
   "id": "84fa8bfd-8541-4aa2-ab57-8637b11b94ab",
   "metadata": {},
   "outputs": [
    {
     "name": "stdout",
     "output_type": "stream",
     "text": [
      "1 \n",
      "1 2 \n",
      "1 2 3 \n",
      "1 2 3 4 \n",
      "1 2 3 4 5 \n",
      "1 2 3 4 5 6 \n",
      "1 2 3 4 5 6 7 \n",
      "1 2 3 4 5 6 7 8 \n",
      "1 2 3 4 5 6 7 8 9 \n",
      "1 2 3 4 5 6 7 8 9 10 \n"
     ]
    }
   ],
   "source": [
    "#half number pyramid\n",
    "for i in range(1,10+1):\n",
    "    for j in range(1,i+1):\n",
    "        print(j, end=' ')\n",
    "    print()"
   ]
  },
  {
   "cell_type": "code",
   "execution_count": 9,
   "id": "ad096c03-47c1-4419-ad94-48e904e750f4",
   "metadata": {},
   "outputs": [
    {
     "name": "stdout",
     "output_type": "stream",
     "text": [
      "10 9 8 7 6 5 4 3 2 1 \n",
      "9 8 7 6 5 4 3 2 1 \n",
      "8 7 6 5 4 3 2 1 \n",
      "7 6 5 4 3 2 1 \n",
      "6 5 4 3 2 1 \n",
      "5 4 3 2 1 \n",
      "4 3 2 1 \n",
      "3 2 1 \n",
      "2 1 \n",
      "1 \n",
      "\n"
     ]
    }
   ],
   "source": [
    "#inverted half number pyramid\n",
    "for i in range(0, 10 + 1):  \n",
    "    for j in range(10 - i, 0, -1):  \n",
    "        print(j, end=' ')  \n",
    "    print()"
   ]
  },
  {
   "cell_type": "code",
   "execution_count": 19,
   "id": "321b6683-89ca-4458-8cae-f8e8bb23d673",
   "metadata": {},
   "outputs": [
    {
     "name": "stdout",
     "output_type": "stream",
     "text": [
      "1 1 1 1 1 \n",
      "2 2 2 2 2 \n",
      "3 3 3 3 3 \n",
      "4 4 4 4 4 \n",
      "5 5 5 5 5 \n"
     ]
    }
   ],
   "source": [
    "#number square pyramid\n",
    "for j in range(1,5+1):\n",
    "    for i in range(1,i+1):\n",
    "        print(j, end=' ')\n",
    "    print()"
   ]
  },
  {
   "cell_type": "code",
   "execution_count": null,
   "id": "ea8fefaa-a761-4573-b82a-55d618ba9a8c",
   "metadata": {},
   "outputs": [],
   "source": []
  }
 ],
 "metadata": {
  "kernelspec": {
   "display_name": "Python 3 (ipykernel)",
   "language": "python",
   "name": "python3"
  },
  "language_info": {
   "codemirror_mode": {
    "name": "ipython",
    "version": 3
   },
   "file_extension": ".py",
   "mimetype": "text/x-python",
   "name": "python",
   "nbconvert_exporter": "python",
   "pygments_lexer": "ipython3",
   "version": "3.12.3"
  }
 },
 "nbformat": 4,
 "nbformat_minor": 5
}
