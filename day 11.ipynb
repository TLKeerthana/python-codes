{
 "cells": [
  {
   "cell_type": "code",
   "execution_count": 1,
   "id": "9b66aab0-f928-4022-bc87-bf7d30072539",
   "metadata": {},
   "outputs": [
    {
     "name": "stdout",
     "output_type": "stream",
     "text": [
      "0 -> 1 -> 2 -> 3 -> None\n",
      "0 -> 1 -> 3 -> None\n"
     ]
    }
   ],
   "source": [
    "#linked list\n",
    "class Node:\n",
    "    def __init__(self, data):\n",
    "        self.data = data\n",
    "        self.next = None\n",
    "\n",
    "class LinkedList:\n",
    "    def __init__(self):\n",
    "        self.head = None\n",
    "\n",
    "    def append(self, data):\n",
    "        new_node = Node(data)\n",
    "        if not self.head:\n",
    "            self.head = new_node\n",
    "            return\n",
    "        last_node = self.head\n",
    "        while last_node.next:\n",
    "            last_node = last_node.next\n",
    "        last_node.next = new_node\n",
    "\n",
    "    def prepend(self, data):\n",
    "        new_node = Node(data)\n",
    "        new_node.next = self.head\n",
    "        self.head = new_node\n",
    "\n",
    "    def delete_node(self, key):\n",
    "        current_node = self.head\n",
    "\n",
    "        if current_node and current_node.data == key:\n",
    "            self.head = current_node.next\n",
    "            current_node = None\n",
    "            return\n",
    "\n",
    "        prev_node = None\n",
    "        while current_node and current_node.data != key:\n",
    "            prev_node = current_node\n",
    "            current_node = current_node.next\n",
    "\n",
    "        if current_node is None:\n",
    "            return\n",
    "\n",
    "        prev_node.next = current_node.next\n",
    "        current_node = None\n",
    "\n",
    "    def print_list(self):\n",
    "        current_node = self.head\n",
    "        while current_node:\n",
    "            print(current_node.data, end=\" -> \")\n",
    "            current_node = current_node.next\n",
    "        print(\"None\")\n",
    "\n",
    "# Example usage:\n",
    "if __name__ == \"__main__\":\n",
    "    linked_list = LinkedList()\n",
    "    linked_list.append(1)\n",
    "    linked_list.append(2)\n",
    "    linked_list.append(3)\n",
    "    linked_list.prepend(0)\n",
    "    linked_list.print_list()  # Output: 0 -> 1 -> 2 -> 3 -> None\n",
    "    linked_list.delete_node(2)\n",
    "    linked_list.print_list()  # Output: 0 -> 1 -> 3 -> None\n"
   ]
  },
  {
   "cell_type": "code",
   "execution_count": 4,
   "id": "5d315578-ff9e-4d45-91a8-e401208f5c64",
   "metadata": {},
   "outputs": [
    {
     "name": "stdout",
     "output_type": "stream",
     "text": [
      "1 --> 2 --> 3 --> 4 --> 5 -->\n"
     ]
    }
   ],
   "source": [
    "#OPERTIONS ON LINKED LISTS\n",
    "class node:\n",
    "    def __init__(self,value):\n",
    "        self.data=value\n",
    "        self.next=None\n",
    "\n",
    "head=node(1)\n",
    "head.next=node(2)\n",
    "head.next.next=node(3)\n",
    "head.next.next.next=node(4)\n",
    "head.next.next.next.next=node(5)\n",
    "\n",
    "print(head.data,\"-->\",\n",
    "head.next.data,\"-->\",\n",
    "head.next.next.data,\"-->\",\n",
    "head.next.next.next.data,\"-->\",\n",
    "head.next.next.next.next.data,\"-->\")"
   ]
  },
  {
   "cell_type": "code",
   "execution_count": 7,
   "id": "9e78c61f-ad76-488f-9439-a9a3c130d332",
   "metadata": {},
   "outputs": [
    {
     "name": "stdin",
     "output_type": "stream",
     "text": [
      " 0\n"
     ]
    },
    {
     "name": "stdout",
     "output_type": "stream",
     "text": [
      "0\n",
      "0 --> 1 --> 2 --> 3 --> 4 --> 5 -->\n"
     ]
    }
   ],
   "source": [
    "#start insert\n",
    "x=int(input())\n",
    "temp=node(x)\n",
    "temp.next=head\n",
    "head=temp\n",
    "print(head.data)\n",
    "\n",
    "#to display\n",
    "print(head.data,\"-->\",\n",
    "head.next.data,\"-->\",\n",
    "head.next.next.data,\"-->\",\n",
    "head.next.next.next.data,\"-->\",\n",
    "head.next.next.next.next.data,\"-->\",\n",
    "head.next.next.next.next.next.data,\"-->\")"
   ]
  },
  {
   "cell_type": "code",
   "execution_count": 8,
   "id": "9427049a-e17a-4874-b5fe-f7a0dfc48267",
   "metadata": {},
   "outputs": [
    {
     "name": "stdin",
     "output_type": "stream",
     "text": [
      " 8\n"
     ]
    },
    {
     "name": "stdout",
     "output_type": "stream",
     "text": [
      "0 --> 1 --> 2 --> 3 --> 4 --> 5 --> 8 --> "
     ]
    }
   ],
   "source": [
    "#end insert\n",
    "x=int(input())\n",
    "temp=node(x)\n",
    "curr=head\n",
    "if curr==None:\n",
    "    head=temp\n",
    "else:\n",
    "    while curr.next!=None:\n",
    "        curr=curr.next\n",
    "    curr.next=temp \n",
    "    \n",
    "#to display\n",
    "curr=head\n",
    "while curr!=None:\n",
    "    print(curr.data,\"-->\",end=\" \")\n",
    "    curr=curr.next"
   ]
  },
  {
   "cell_type": "code",
   "execution_count": 9,
   "id": "f536331f-6a0d-4249-b6e2-0837eb51f99f",
   "metadata": {},
   "outputs": [
    {
     "name": "stdout",
     "output_type": "stream",
     "text": [
      "1 --> 2 --> 3 --> 4 --> 5 -->\n"
     ]
    },
    {
     "name": "stdin",
     "output_type": "stream",
     "text": [
      " 0\n"
     ]
    },
    {
     "name": "stdout",
     "output_type": "stream",
     "text": [
      "0\n",
      "0 --> 1 --> 2 --> 3 --> 4 --> 5 -->\n"
     ]
    },
    {
     "name": "stdin",
     "output_type": "stream",
     "text": [
      " 6\n"
     ]
    },
    {
     "name": "stdout",
     "output_type": "stream",
     "text": [
      "0 --> 1 --> 2 --> 3 --> 4 --> 5 --> 6 --> "
     ]
    }
   ],
   "source": [
    "class node:\n",
    "    def __init__(self,value):\n",
    "        self.data=value\n",
    "        self.next=None\n",
    "\n",
    "head=node(1)\n",
    "head.next=node(2)\n",
    "head.next.next=node(3)\n",
    "head.next.next.next=node(4)\n",
    "head.next.next.next.next=node(5)\n",
    "\n",
    "print(head.data,\"-->\",\n",
    "head.next.data,\"-->\",\n",
    "head.next.next.data,\"-->\",\n",
    "head.next.next.next.data,\"-->\",\n",
    "head.next.next.next.next.data,\"-->\")\n",
    "\n",
    "#start insert\n",
    "x=int(input())\n",
    "temp=node(x)\n",
    "temp.next=head\n",
    "head=temp\n",
    "print(head.data)\n",
    "\n",
    "#to display\n",
    "print(head.data,\"-->\",\n",
    "head.next.data,\"-->\",\n",
    "head.next.next.data,\"-->\",\n",
    "head.next.next.next.data,\"-->\",\n",
    "head.next.next.next.next.data,\"-->\",\n",
    "head.next.next.next.next.next.data,\"-->\")\n",
    "\n",
    "#end insert\n",
    "x=int(input())\n",
    "temp=node(x)\n",
    "curr=head\n",
    "if curr==None:\n",
    "    head=temp\n",
    "else:\n",
    "    while curr.next!=None:\n",
    "        curr=curr.next\n",
    "    curr.next=temp \n",
    "    \n",
    "#to display\n",
    "curr=head\n",
    "while curr!=None:\n",
    "    print(curr.data,\"-->\",end=\" \")\n",
    "    curr=curr.next"
   ]
  },
  {
   "cell_type": "code",
   "execution_count": 25,
   "id": "4b8e8232-6ea1-417d-9f4e-4e0d77a587ab",
   "metadata": {},
   "outputs": [
    {
     "name": "stdout",
     "output_type": "stream",
     "text": [
      "pre_order traversal\n",
      "1\n",
      "2\n",
      "4\n",
      "5\n",
      "3\n",
      "6\n",
      "7\n",
      "post_order traversal\n",
      "4\n",
      "5\n",
      "2\n",
      "6\n",
      "7\n",
      "3\n",
      "1\n",
      "in_order traversal\n",
      "4\n",
      "2\n",
      "5\n",
      "1\n",
      "6\n",
      "3\n",
      "7\n",
      "level_order traversal\n",
      "1 \n",
      "2 3 \n",
      "4 5 6 7 \n"
     ]
    }
   ],
   "source": [
    "#complete binary tree\n",
    "class node:\n",
    "    def __init__(self,value):\n",
    "        self.data=value\n",
    "        self.left=None\n",
    "        self.right=None\n",
    "\n",
    "def preorder(root):\n",
    "    if root==None:\n",
    "        return\n",
    "    print(root.data)\n",
    "    preorder(root.left)\n",
    "    preorder(root.right)\n",
    "\n",
    "\n",
    "root=node(1)\n",
    "root.left=node(2)\n",
    "root.right=node(3)\n",
    "\n",
    "root.left.left=node(4)\n",
    "root.left.right=node(5)\n",
    "\n",
    "root.right.left=node(6)\n",
    "root.right.right=node(7)\n",
    "\n",
    "print(\"pre_order traversal\")\n",
    "preorder(root)\n",
    "\n",
    "def postorder(root):\n",
    "    if root==None:\n",
    "        return\n",
    "    postorder(root.left)\n",
    "    postorder(root.right)\n",
    "    print(root.data,)\n",
    "\n",
    "\n",
    "root=node(1)\n",
    "root.left=node(2)\n",
    "root.right=node(3)\n",
    "\n",
    "root.left.left=node(4)\n",
    "root.left.right=node(5)\n",
    "\n",
    "root.right.left=node(6)\n",
    "root.right.right=node(7)\n",
    "\n",
    "print(\"post_order traversal\")\n",
    "postorder(root)\n",
    "\n",
    "def inorder(root):\n",
    "    if root==None:\n",
    "        return\n",
    "    inorder(root.left)\n",
    "    print(root.data)\n",
    "    inorder(root.right)\n",
    "\n",
    "\n",
    "root=node(1)\n",
    "root.left=node(2)\n",
    "root.right=node(3)\n",
    "\n",
    "root.left.left=node(4)\n",
    "root.left.right=node(5)\n",
    "\n",
    "root.right.left=node(6)\n",
    "root.right.right=node(7)\n",
    "\n",
    "print(\"in_order traversal\")\n",
    "inorder(root)\n",
    "\n",
    "def levelorder(root):\n",
    "    Q=[root,None]\n",
    "    while Q:\n",
    "        curr=Q.pop(0)\n",
    "        if curr == None:\n",
    "            print()\n",
    "            if Q:\n",
    "                Q.append(curr)\n",
    "        else:\n",
    "            print(curr.data,end=\" \")\n",
    "            if curr.left!=None:\n",
    "                Q.append(curr.left)\n",
    "\n",
    "            if curr.right!=None:\n",
    "                Q.append(curr.right)\n",
    "    if root==None:\n",
    "        return\n",
    "\n",
    "root=node(1)\n",
    "root.left=node(2)\n",
    "root.right=node(3)\n",
    "\n",
    "root.left.left=node(4)\n",
    "root.left.right=node(5)\n",
    "\n",
    "root.right.left=node(6)\n",
    "root.right.right=node(7)\n",
    "\n",
    "print(\"level_order traversal\")\n",
    "levelorder(root)\n",
    "    "
   ]
  },
  {
   "cell_type": "code",
   "execution_count": null,
   "id": "8be6fd70-739c-4947-bcdf-2a1e131f5d66",
   "metadata": {},
   "outputs": [],
   "source": []
  },
  {
   "cell_type": "code",
   "execution_count": null,
   "id": "76118699-cbac-462f-a544-b156cafc0e71",
   "metadata": {},
   "outputs": [],
   "source": []
  }
 ],
 "metadata": {
  "kernelspec": {
   "display_name": "Python 3 (ipykernel)",
   "language": "python",
   "name": "python3"
  },
  "language_info": {
   "codemirror_mode": {
    "name": "ipython",
    "version": 3
   },
   "file_extension": ".py",
   "mimetype": "text/x-python",
   "name": "python",
   "nbconvert_exporter": "python",
   "pygments_lexer": "ipython3",
   "version": "3.12.3"
  }
 },
 "nbformat": 4,
 "nbformat_minor": 5
}
