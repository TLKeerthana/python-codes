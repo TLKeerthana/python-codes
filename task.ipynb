{
 "cells": [
  {
   "cell_type": "code",
   "execution_count": 22,
   "id": "d7b61906-aa85-4a1c-8eee-553b8ef8ddc6",
   "metadata": {},
   "outputs": [],
   "source": [
    "#file\n",
    "import os\n",
    "\n",
    "with open(\"keerth.txt\", 'w') as f:\n",
    "    f.write(\"Apple\\nBanana\\nMango\\nGrapes\\n\")\n",
    "\n",
    "with open(\"keerth.txt\", 'r') as f:\n",
    "    content = f.read()\n",
    "\n",
    "updated_content = content.replace(\"Banana\", \"Watermelon\")\n",
    "\n",
    "with open(\"keerth.txt\", 'w') as f:\n",
    "    f.write(updated_content)"
   ]
  },
  {
   "cell_type": "code",
   "execution_count": 21,
   "id": "82e224bf-c9dd-473c-9f95-d21354273475",
   "metadata": {},
   "outputs": [
    {
     "name": "stdout",
     "output_type": "stream",
     "text": [
      "Apple\n",
      "Banana\n",
      "Mango\n",
      "Grapes \n",
      "\n",
      "Apple\n",
      "Watermelon\n",
      "Mango\n",
      "Grapes \n",
      "\n"
     ]
    }
   ],
   "source": [
    "#creating and writing into a file\n",
    "import os\n",
    "with open (\"tlkeerthana.txt\", 'w') as f:\n",
    "    f.write(\"Apple\\n\")\n",
    "    f.write(\"Banana\\n\" )\n",
    "    f.write(\"Mango\\n\")\n",
    "    f.write(\"Grapes \\n\")\n",
    "\n",
    "with open (\"tlkeerthana.txt\",'r') as f:\n",
    "    a=f.read()\n",
    "    print(a)\n",
    "    a=a.replace (\"Banana\", \"Watermelon\",1)\n",
    "    print(a)\n",
    "\n",
    "with open(\"tlkeerthana.txt\",'w') as f:\n",
    "    f.write(a)"
   ]
  },
  {
   "cell_type": "code",
   "execution_count": 2,
   "id": "b52d8201-e319-4738-b4aa-99523157b8bd",
   "metadata": {},
   "outputs": [
    {
     "name": "stdin",
     "output_type": "stream",
     "text": [
      "Enter the Temperature in Celsius :\n",
      " 12\n"
     ]
    },
    {
     "name": "stdout",
     "output_type": "stream",
     "text": [
      "Temperature in Fahrenheit : 53.6\n"
     ]
    }
   ],
   "source": [
    "#convert a temperature from celsius to fahrenheit\n",
    "celsius = int(input(\"Enter the Temperature in Celsius :\\n\"))\n",
    "fahrenheit = (1.8 * celsius) + 32\n",
    "print(\"Temperature in Fahrenheit :\",fahrenheit)"
   ]
  },
  {
   "cell_type": "code",
   "execution_count": 17,
   "id": "095188e7-d91e-41f1-ba86-c6aa6e63e44a",
   "metadata": {},
   "outputs": [
    {
     "name": "stdout",
     "output_type": "stream",
     "text": [
      "the second largest number is: 40\n"
     ]
    }
   ],
   "source": [
    "#find the second largest element in a list\n",
    "list1=[10,20,30,40,50]\n",
    "list2=list(set(list1))\n",
    "list2.sort()\n",
    "print(\"the second largest number is:\",list2[-2])\n",
    "           "
   ]
  },
  {
   "cell_type": "code",
   "execution_count": 21,
   "id": "dd2eba45-15f3-4c10-9a2b-89aa42a54182",
   "metadata": {},
   "outputs": [
    {
     "name": "stdout",
     "output_type": "stream",
     "text": [
      "the element 2 occurs 3 times\n"
     ]
    }
   ],
   "source": [
    "#count the occurance of each element in a list\n",
    "a = [1, 1, 2, 2, 2, 3, 3, 4, 4, 5, 5] \n",
    "b=2\n",
    "x=[i for i in a if i==b] \n",
    "print(\"the element\",b,\"occurs\",len(x),\"times\")"
   ]
  },
  {
   "cell_type": "code",
   "execution_count": 12,
   "id": "3d0ec8f2-c981-4ab9-b3eb-36e3c1eef6e7",
   "metadata": {},
   "outputs": [
    {
     "name": "stdout",
     "output_type": "stream",
     "text": [
      "30\n"
     ]
    }
   ],
   "source": [
    "#find the sum of all even numbers in a list\n",
    "a = [1,2,3,4,5,6,7,8,9,10]\n",
    "sum=0\n",
    "for num in a:\n",
    "    if num % 2==0:\n",
    "        sum += num\n",
    "        \n",
    "print(sum)\n",
    "        "
   ]
  },
  {
   "cell_type": "code",
   "execution_count": 14,
   "id": "4c41ac64-4c24-4584-bab6-8936ed6570d6",
   "metadata": {},
   "outputs": [
    {
     "name": "stdin",
     "output_type": "stream",
     "text": [
      "Enter string: keerthana\n"
     ]
    },
    {
     "name": "stdout",
     "output_type": "stream",
     "text": [
      "Number of vowels are:\n",
      "4\n"
     ]
    }
   ],
   "source": [
    "#count the number of vowels in a string\n",
    "string = input(\"Enter string:\") \n",
    "vowels = 0\n",
    "for i in string:\n",
    "    if i.lower() in 'aeiou':\n",
    "        vowels += 1\n",
    "print(\"Number of vowels are:\")\n",
    "print(vowels)"
   ]
  },
  {
   "cell_type": "code",
   "execution_count": 17,
   "id": "c2b18cbf-3553-4191-9ca6-4b1a016c637e",
   "metadata": {},
   "outputs": [
    {
     "name": "stdout",
     "output_type": "stream",
     "text": [
      "The original string  is :  dda\n",
      "The reversed string(using reversed) is :  add\n"
     ]
    }
   ],
   "source": [
    "#reverse the words in a given sentences\n",
    "def reverse(string):\n",
    "    string = [string[i] for i in range(len(string)-1, -1, -1)]\n",
    "    return \"\".join(string)\n",
    " \n",
    "s = \"dda\"\n",
    " \n",
    "print(\"The original string  is : \", s)\n",
    " \n",
    "print(\"The reversed string(using reversed) is : \", reverse(s))"
   ]
  },
  {
   "cell_type": "code",
   "execution_count": null,
   "id": "6758dd2d-d700-468d-987c-ad4731ebbb31",
   "metadata": {},
   "outputs": [],
   "source": []
  }
 ],
 "metadata": {
  "kernelspec": {
   "display_name": "Python 3 (ipykernel)",
   "language": "python",
   "name": "python3"
  },
  "language_info": {
   "codemirror_mode": {
    "name": "ipython",
    "version": 3
   },
   "file_extension": ".py",
   "mimetype": "text/x-python",
   "name": "python",
   "nbconvert_exporter": "python",
   "pygments_lexer": "ipython3",
   "version": "3.12.3"
  }
 },
 "nbformat": 4,
 "nbformat_minor": 5
}
