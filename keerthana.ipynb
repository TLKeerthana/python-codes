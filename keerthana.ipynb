{
 "cells": [
  {
   "cell_type": "code",
   "execution_count": 1,
   "id": "75fe025b-2f34-4e13-948b-925c2d7879e3",
   "metadata": {},
   "outputs": [
    {
     "name": "stdout",
     "output_type": "stream",
     "text": [
      "keev\n"
     ]
    }
   ],
   "source": [
    "print(\"keev\")"
   ]
  },
  {
   "cell_type": "code",
   "execution_count": 1,
   "id": "9d6a54b1-4290-47fb-b1fd-d15c02a1af3a",
   "metadata": {},
   "outputs": [
    {
     "name": "stdout",
     "output_type": "stream",
     "text": [
      "5\n",
      "<class 'int'>\n"
     ]
    }
   ],
   "source": [
    "a=5\n",
    "print(a)\n",
    "print(type(a))"
   ]
  },
  {
   "cell_type": "code",
   "execution_count": 2,
   "id": "6abf69b6-034e-4b4c-8e22-254f229020b3",
   "metadata": {},
   "outputs": [
    {
     "name": "stdout",
     "output_type": "stream",
     "text": [
      "5.5\n",
      "<class 'float'>\n"
     ]
    }
   ],
   "source": [
    "a=5.5\n",
    "print(a)\n",
    "print(type(a))"
   ]
  },
  {
   "cell_type": "code",
   "execution_count": 3,
   "id": "bca7adc0-027d-46bc-8365-3fba7a26f27e",
   "metadata": {},
   "outputs": [
    {
     "name": "stdout",
     "output_type": "stream",
     "text": [
      "5\n",
      "<class 'str'>\n"
     ]
    }
   ],
   "source": [
    "a=\"5\"\n",
    "print(a)\n",
    "print(type(a))"
   ]
  },
  {
   "cell_type": "code",
   "execution_count": 4,
   "id": "f039380d-4ca1-4f65-a03d-2d177ae63134",
   "metadata": {},
   "outputs": [
    {
     "name": "stdout",
     "output_type": "stream",
     "text": [
      "[5, 7]\n",
      "<class 'list'>\n"
     ]
    }
   ],
   "source": [
    "a=[5,7]\n",
    "print(a)\n",
    "print(type(a))"
   ]
  },
  {
   "cell_type": "code",
   "execution_count": 5,
   "id": "260ff366-3f92-4419-bdce-c68a53b78fb6",
   "metadata": {},
   "outputs": [
    {
     "name": "stdout",
     "output_type": "stream",
     "text": [
      "(2, 3)\n",
      "<class 'tuple'>\n"
     ]
    }
   ],
   "source": [
    "a=(2,3)\n",
    "print(a)\n",
    "print(type(a))"
   ]
  },
  {
   "cell_type": "code",
   "execution_count": 8,
   "id": "096d4399-4202-4f0f-8c2c-de611f52894a",
   "metadata": {},
   "outputs": [
    {
     "name": "stdout",
     "output_type": "stream",
     "text": [
      "{1: 'abcd', 2: 'sddff'}\n",
      "<class 'dict'>\n"
     ]
    }
   ],
   "source": [
    "a={1:\"abcd\",2:\"sddff\"}\n",
    "print(a)\n",
    "print(type(a))"
   ]
  },
  {
   "cell_type": "code",
   "execution_count": 9,
   "id": "7a1ae0f1-5da3-4561-bff2-5ddd812d6b05",
   "metadata": {},
   "outputs": [
    {
     "name": "stdin",
     "output_type": "stream",
     "text": [
      " 3\n",
      " 5\n"
     ]
    },
    {
     "name": "stdout",
     "output_type": "stream",
     "text": [
      "35\n",
      "<class 'str'>\n",
      "<class 'str'>\n",
      "<class 'str'>\n"
     ]
    }
   ],
   "source": [
    "a=input()\n",
    "b=input()\n",
    "c=a+b\n",
    "print(c)\n",
    "print(type(a))\n",
    "print(type(b))\n",
    "print(type(c))"
   ]
  },
  {
   "cell_type": "code",
   "execution_count": 10,
   "id": "86541462-b39d-448b-8b45-8c5e28c7f6fe",
   "metadata": {},
   "outputs": [
    {
     "name": "stdin",
     "output_type": "stream",
     "text": [
      " 4\n",
      " 5\n"
     ]
    },
    {
     "name": "stdout",
     "output_type": "stream",
     "text": [
      "9\n",
      "<class 'int'>\n",
      "<class 'int'>\n",
      "<class 'int'>\n"
     ]
    }
   ],
   "source": [
    "a=int(input())\n",
    "b=int(input())\n",
    "c=a+b\n",
    "print(c)\n",
    "print(type(a))\n",
    "print(type(b))\n",
    "print(type(c))"
   ]
  },
  {
   "cell_type": "code",
   "execution_count": 11,
   "id": "9afe36dc-8f72-4570-a9ef-8ccff679ac26",
   "metadata": {},
   "outputs": [
    {
     "name": "stdin",
     "output_type": "stream",
     "text": [
      " 3\n",
      " 5\n"
     ]
    },
    {
     "name": "stdout",
     "output_type": "stream",
     "text": [
      "8\n",
      "<class 'str'>\n",
      "<class 'str'>\n",
      "<class 'int'>\n"
     ]
    }
   ],
   "source": [
    "a=input()\n",
    "b=input()\n",
    "c=int(a)+int(b)\n",
    "print(c)\n",
    "print(type(a))\n",
    "print(type(b))\n",
    "print(type(c))"
   ]
  },
  {
   "cell_type": "code",
   "execution_count": 14,
   "id": "9536a39a-eb6e-4e12-8efb-048bb7bd551a",
   "metadata": {},
   "outputs": [
    {
     "name": "stdin",
     "output_type": "stream",
     "text": [
      " 4\n",
      " 5\n"
     ]
    },
    {
     "name": "stdout",
     "output_type": "stream",
     "text": [
      "45\n",
      "<class 'str'>\n",
      "<class 'str'>\n",
      "<class 'int'>\n"
     ]
    }
   ],
   "source": [
    "a=input()\n",
    "b=input()\n",
    "c=int(a+b)\n",
    "print(c)\n",
    "print(type(a))\n",
    "print(type(b))\n",
    "print(type(c))"
   ]
  },
  {
   "cell_type": "code",
   "execution_count": 16,
   "id": "095291bd-a45d-4cb9-aa73-735661749429",
   "metadata": {},
   "outputs": [
    {
     "name": "stdin",
     "output_type": "stream",
     "text": [
      " 4\n",
      " 2\n"
     ]
    },
    {
     "name": "stdout",
     "output_type": "stream",
     "text": [
      "2\n",
      "<class 'int'>\n",
      "<class 'int'>\n",
      "<class 'int'>\n"
     ]
    }
   ],
   "source": [
    "a=int(input())\n",
    "b=int(input())\n",
    "c=a-b\n",
    "print(c)\n",
    "print(type(a))\n",
    "print(type(b))\n",
    "print(type(c))"
   ]
  },
  {
   "cell_type": "code",
   "execution_count": 18,
   "id": "37996949-e322-40b8-88c5-845cda5e3b50",
   "metadata": {},
   "outputs": [
    {
     "name": "stdin",
     "output_type": "stream",
     "text": [
      " 2\n",
      " 3\n"
     ]
    },
    {
     "name": "stdout",
     "output_type": "stream",
     "text": [
      "6\n",
      "<class 'str'>\n",
      "<class 'str'>\n",
      "<class 'int'>\n"
     ]
    }
   ],
   "source": [
    "a=input()\n",
    "b=input()\n",
    "c=int(a)*int(b)\n",
    "print(c)\n",
    "print(type(a))\n",
    "print(type(b))\n",
    "print(type(c))"
   ]
  },
  {
   "cell_type": "code",
   "execution_count": 19,
   "id": "d60e1aca-1635-40d9-992e-0b99e8fe8478",
   "metadata": {},
   "outputs": [
    {
     "name": "stdin",
     "output_type": "stream",
     "text": [
      " 6\n",
      " 2\n"
     ]
    },
    {
     "name": "stdout",
     "output_type": "stream",
     "text": [
      "3.0\n",
      "<class 'str'>\n",
      "<class 'str'>\n",
      "<class 'float'>\n"
     ]
    }
   ],
   "source": [
    "a=input()\n",
    "b=input()\n",
    "c=int(a)/int(b)\n",
    "print(c)\n",
    "print(type(a))\n",
    "print(type(b))\n",
    "print(type(c))"
   ]
  },
  {
   "cell_type": "code",
   "execution_count": 22,
   "id": "e92416e6-86f6-4bac-a4d5-867b8f1a557d",
   "metadata": {},
   "outputs": [
    {
     "name": "stdin",
     "output_type": "stream",
     "text": [
      "enter first number: 2.2\n",
      "enter second number: 3\n"
     ]
    },
    {
     "name": "stdout",
     "output_type": "stream",
     "text": [
      "5.2\n",
      "<class 'str'>\n",
      "<class 'str'>\n",
      "<class 'float'>\n"
     ]
    }
   ],
   "source": [
    "a=input(\"enter first number:\")\n",
    "b=input(\"enter second number:\")\n",
    "c=float(a)+int(b)\n",
    "print(c)\n",
    "print(type(a))\n",
    "print(type(b))\n",
    "print(type(c))"
   ]
  },
  {
   "cell_type": "code",
   "execution_count": 24,
   "id": "0fda218e-94d6-41f1-9d99-16fd2812a5a4",
   "metadata": {},
   "outputs": [
    {
     "name": "stdin",
     "output_type": "stream",
     "text": [
      "enter three number: 222 333 444\n"
     ]
    },
    {
     "name": "stdout",
     "output_type": "stream",
     "text": [
      "222333444\n"
     ]
    }
   ],
   "source": [
    "a,b,c=input(\"enter three number:\").split()\n",
    "d=a+b+c\n",
    "print(d)"
   ]
  },
  {
   "cell_type": "code",
   "execution_count": 26,
   "id": "7755957b-ba6f-43ad-bbbc-e61fd5da99dc",
   "metadata": {},
   "outputs": [
    {
     "name": "stdin",
     "output_type": "stream",
     "text": [
      "enter three number: 2 3 4\n"
     ]
    },
    {
     "name": "stdout",
     "output_type": "stream",
     "text": [
      "9\n"
     ]
    }
   ],
   "source": [
    "a,b,c=input(\"enter three number:\").split()\n",
    "d=int(a)+int(b)+int(c)\n",
    "print(d)"
   ]
  },
  {
   "cell_type": "code",
   "execution_count": 27,
   "id": "e8fea46a-2370-4ef9-b3fd-75d258cf5a0b",
   "metadata": {},
   "outputs": [
    {
     "name": "stdin",
     "output_type": "stream",
     "text": [
      " 6\n",
      " 2\n"
     ]
    },
    {
     "name": "stdout",
     "output_type": "stream",
     "text": [
      "0\n",
      "<class 'str'>\n",
      "<class 'str'>\n",
      "<class 'int'>\n"
     ]
    }
   ],
   "source": [
    "a=input()\n",
    "b=input()\n",
    "c=int(a)%int(b)\n",
    "print(c)\n",
    "print(type(a))\n",
    "print(type(b))\n",
    "print(type(c))"
   ]
  },
  {
   "cell_type": "code",
   "execution_count": 9,
   "id": "905eec76-0dee-45ae-9f04-266a2f5d6be1",
   "metadata": {},
   "outputs": [
    {
     "name": "stdin",
     "output_type": "stream",
     "text": [
      "enter name: keerthana\n",
      "enter age: 20\n"
     ]
    },
    {
     "name": "stdout",
     "output_type": "stream",
     "text": [
      "keerthana\n",
      "eligible\n"
     ]
    }
   ],
   "source": [
    "Name=input(\"enter name:\")\n",
    "age=int(input(\"enter age:\"))\n",
    "if age>=18:\n",
    "    print(Name)\n",
    "    print(\"eligible\")\n",
    "else:\n",
    "    print(Name)\n",
    "    print(\"not eligible\")"
   ]
  },
  {
   "cell_type": "code",
   "execution_count": 13,
   "id": "7840aecc-e36c-4c2f-9990-544e75f15591",
   "metadata": {},
   "outputs": [
    {
     "name": "stdin",
     "output_type": "stream",
     "text": [
      "enter num1: 12\n",
      "enter num2: 34\n"
     ]
    },
    {
     "name": "stdout",
     "output_type": "stream",
     "text": [
      "num2 is greatest\n"
     ]
    }
   ],
   "source": [
    "input(\"enter num1:\")\n",
    "input(\"enter num2:\")\n",
    "if num1>num2:\n",
    "    print(\"num1 is greatest\")\n",
    "else:\n",
    "    print(\"num2 is greatest\")"
   ]
  },
  {
   "cell_type": "code",
   "execution_count": 15,
   "id": "5a129b98-ddd4-41eb-819a-f46121017b1f",
   "metadata": {},
   "outputs": [
    {
     "name": "stdin",
     "output_type": "stream",
     "text": [
      "enter num 3\n",
      "enter num 5\n",
      "enter num 8\n"
     ]
    },
    {
     "name": "stdout",
     "output_type": "stream",
     "text": [
      "c is largest\n"
     ]
    }
   ],
   "source": [
    "a=input(\"enter num\")\n",
    "b=input(\"enter num\")\n",
    "c=input(\"enter num\")\n",
    "if a>b:\n",
    "    if a>c:\n",
    "        print(\"a is largest\")\n",
    "    else:\n",
    "        print(\"c is largest\")\n",
    "    \n",
    "else:\n",
    "    if b>c:\n",
    "        print(\"b is largest\")\n",
    "    else:\n",
    "        print(\"c is largest\")\n",
    "        "
   ]
  },
  {
   "cell_type": "code",
   "execution_count": 17,
   "id": "457dbc49-5715-4640-b77e-2d5451a21aed",
   "metadata": {},
   "outputs": [
    {
     "name": "stdin",
     "output_type": "stream",
     "text": [
      "enter marks: 45\n"
     ]
    },
    {
     "name": "stdout",
     "output_type": "stream",
     "text": [
      "grade = D\n"
     ]
    }
   ],
   "source": [
    "marks=int(input(\"enter marks:\"))\n",
    "if marks>=90 and marks<=100:\n",
    "    print(\"grade = A+\")\n",
    "else:\n",
    "    if marks>=80 and marks<=90:\n",
    "        print(\"grade = A\")\n",
    "    else:\n",
    "        if marks>=70 and marks<=80:\n",
    "            print(\"grade = B+\")\n",
    "        else:\n",
    "            if marks>=60 and marks<=70:\n",
    "                print(\"grade = B\")\n",
    "            else:\n",
    "                if marks>=50 and marks<=60:\n",
    "                    print(\"grade = C\")\n",
    "                else:\n",
    "                    if marks>=40 and marks<=50:\n",
    "                        print(\"grade = D\")\n",
    "                    else:\n",
    "                        if marks>=30 and marks<=40:\n",
    "                            print(\"grade = E\")\n",
    "                        else:\n",
    "                            if marks>=0 and marks<=30:\n",
    "                                print(\"grade = F\")\n",
    "                                "
   ]
  },
  {
   "cell_type": "code",
   "execution_count": 16,
   "id": "011e7160-a12a-4f7b-9e2d-64e1b5bc34af",
   "metadata": {},
   "outputs": [
    {
     "name": "stdin",
     "output_type": "stream",
     "text": [
      "enter the day number:  8\n"
     ]
    },
    {
     "name": "stdout",
     "output_type": "stream",
     "text": [
      "invalid\n"
     ]
    }
   ],
   "source": [
    "day = int(input(\"enter the day number: \"))\n",
    "\n",
    "match day:\n",
    "            case 1: print(\"SUNDAY\")\n",
    "            case 2: print(\"MONDAY\")\n",
    "            case 3: print(\"TUESDAY\")\n",
    "            case 4: print(\"WEDNESDAY\")\n",
    "            case 5: print(\"THURSDAY\")\n",
    "            case 6: print(\"FRIDAY\")\n",
    "            case 7: print(\"SATURDAY\")\n",
    "            case _:print(\"invalid\")\n",
    "\n",
    "                                "
   ]
  },
  {
   "cell_type": "code",
   "execution_count": 31,
   "id": "8bbcd031-522e-42a2-9f6c-946458d2a7fc",
   "metadata": {},
   "outputs": [
    {
     "name": "stdout",
     "output_type": "stream",
     "text": [
      "0\n",
      "1\n",
      "2\n",
      "3\n",
      "4\n",
      "5\n",
      "6\n",
      "7\n",
      "8\n",
      "9\n",
      "0\n",
      "1\n",
      "2\n",
      "3\n",
      "4\n",
      "5\n",
      "6\n",
      "7\n",
      "8\n",
      "9\n"
     ]
    }
   ],
   "source": [
    "x=0\n",
    "while x<10:\n",
    "    print(x)\n",
    "    x=x+1\n",
    "\n",
    "for y in range(0,10):\n",
    "    print(y)\n"
   ]
  },
  {
   "cell_type": "code",
   "execution_count": 32,
   "id": "f0f51e02-8cd2-431d-9726-d76225480c29",
   "metadata": {},
   "outputs": [
    {
     "name": "stdout",
     "output_type": "stream",
     "text": [
      "*\n",
      "**\n",
      "***\n",
      "****\n",
      "*****\n"
     ]
    }
   ],
   "source": [
    "rows=5\n",
    "for i in range(1,rows+1):\n",
    "    print(\"*\" * i)"
   ]
  },
  {
   "cell_type": "code",
   "execution_count": 33,
   "id": "859e60e6-d84d-42bc-86d7-cb17055bc001",
   "metadata": {},
   "outputs": [
    {
     "name": "stdout",
     "output_type": "stream",
     "text": [
      "0\n",
      "1\n",
      "2\n",
      "3\n",
      "4\n",
      "5\n",
      "6\n",
      "7\n",
      "8\n",
      "9\n",
      "0\n",
      "2\n",
      "4\n",
      "6\n",
      "8\n"
     ]
    }
   ],
   "source": [
    "x=0\n",
    "while x<10:\n",
    "    print(x)\n",
    "    x=x+1\n",
    "\n",
    "for y in range(0,10,2):\n",
    "    print(y)\n"
   ]
  },
  {
   "cell_type": "code",
   "execution_count": 34,
   "id": "dda4b628-d70f-4f6c-bd84-61b1632acede",
   "metadata": {},
   "outputs": [
    {
     "name": "stdout",
     "output_type": "stream",
     "text": [
      "0\n",
      "1\n",
      "2\n",
      "3\n",
      "4\n",
      "5\n",
      "6\n",
      "7\n",
      "8\n",
      "9\n",
      "*\n",
      "*\n",
      "*\n",
      "*\n",
      "*\n",
      "*\n",
      "*\n",
      "*\n",
      "*\n",
      "*\n",
      "*\n",
      "*\n",
      "*\n",
      "*\n",
      "*\n",
      "*\n",
      "*\n",
      "*\n",
      "*\n",
      "*\n",
      "*\n",
      "*\n",
      "*\n",
      "*\n",
      "*\n",
      "*\n",
      "*\n",
      "*\n",
      "*\n",
      "*\n",
      "*\n",
      "*\n",
      "*\n",
      "*\n",
      "*\n",
      "*\n",
      "*\n",
      "*\n",
      "*\n",
      "*\n",
      "*\n",
      "*\n",
      "*\n",
      "*\n",
      "*\n",
      "*\n",
      "*\n",
      "*\n",
      "*\n",
      "*\n",
      "*\n",
      "*\n",
      "*\n",
      "*\n",
      "*\n"
     ]
    }
   ],
   "source": [
    "x=0\n",
    "while x<10:\n",
    "    print(x)\n",
    "    x=x+1\n",
    "    "
   ]
  },
  {
   "cell_type": "code",
   "execution_count": 8,
   "id": "94cfcb2f-b541-4d97-9fc1-440bef4ad2bd",
   "metadata": {},
   "outputs": [
    {
     "name": "stdin",
     "output_type": "stream",
     "text": [
      "Enter the number of terms:  8\n"
     ]
    },
    {
     "name": "stdout",
     "output_type": "stream",
     "text": [
      "0 1 1 2 3 5 8 13 "
     ]
    }
   ],
   "source": [
    "fib= int(input(\"Enter the number of terms: \"))\n",
    "a, b = 0, 1\n",
    "\n",
    "print(a, b, end=\" \")\n",
    "\n",
    "for _ in range(2, fib):\n",
    "    fib = a + b\n",
    "    print(fib, end=\" \")\n",
    "\n",
    "    a, b = b, fib"
   ]
  },
  {
   "cell_type": "code",
   "execution_count": 11,
   "id": "54764ff3-4217-48d7-814b-4d0d4b122449",
   "metadata": {},
   "outputs": [
    {
     "name": "stdin",
     "output_type": "stream",
     "text": [
      " 5\n",
      " 5\n"
     ]
    },
    {
     "name": "stdout",
     "output_type": "stream",
     "text": [
      "10\n"
     ]
    }
   ],
   "source": [
    "def abcd(a,b):\n",
    "    c=a+b\n",
    "    return c\n",
    "\n",
    "A=int(input())\n",
    "B=int(input())\n",
    "print(abcd(A,B))"
   ]
  },
  {
   "cell_type": "code",
   "execution_count": 12,
   "id": "7b17185a-8a95-4adb-9f29-108cd60b941c",
   "metadata": {},
   "outputs": [
    {
     "name": "stdin",
     "output_type": "stream",
     "text": [
      " 4\n",
      " 5\n"
     ]
    },
    {
     "data": {
      "text/plain": [
       "9"
      ]
     },
     "execution_count": 12,
     "metadata": {},
     "output_type": "execute_result"
    }
   ],
   "source": [
    "def abcd(a,b):\n",
    "    c=a+b\n",
    "    return c\n",
    "\n",
    "A=int(input())\n",
    "B=int(input())\n",
    "abcd(A,B)"
   ]
  },
  {
   "cell_type": "code",
   "execution_count": 4,
   "id": "117f4c7e-7110-486a-a53c-9eab6e0173bd",
   "metadata": {},
   "outputs": [
    {
     "name": "stdout",
     "output_type": "stream",
     "text": [
      "1\n",
      "2\n",
      "3\n",
      "4\n",
      "5\n",
      "6\n"
     ]
    }
   ],
   "source": [
    "x=[1,2,3,4,5,6]\n",
    "for a in range(0,6):\n",
    "    print(x[a])"
   ]
  },
  {
   "cell_type": "code",
   "execution_count": 10,
   "id": "8581fd12-0c53-4d0f-9c8e-002e0b64ea4e",
   "metadata": {},
   "outputs": [
    {
     "name": "stdout",
     "output_type": "stream",
     "text": [
      "1\n",
      "2\n",
      "3\n",
      "4\n",
      "5\n",
      "6\n",
      "2\n",
      "6\n",
      "8\n",
      "4\n",
      "45\n"
     ]
    }
   ],
   "source": [
    "x=[1,2,3,4,5,6]\n",
    "y=[2,6,8,4,45]\n",
    "for a in range(0,6):\n",
    "    print(x[a])\n",
    "    \n",
    "for b in range(0,5):\n",
    "    print(y[b])\n",
    "    "
   ]
  },
  {
   "cell_type": "code",
   "execution_count": 13,
   "id": "2b007e63-6b4d-4848-852c-c3e8333b7f70",
   "metadata": {},
   "outputs": [
    {
     "name": "stdout",
     "output_type": "stream",
     "text": [
      "[1, 2, 3, 'keev', 3.4]\n",
      "keev\n",
      "<class 'str'>\n"
     ]
    }
   ],
   "source": [
    "a=[1,2,3,'keev',3.4]\n",
    "print(a)\n",
    "print(a[3])\n",
    "print(type(a[3]))"
   ]
  },
  {
   "cell_type": "code",
   "execution_count": 10,
   "id": "aa6d46b6-8289-4a22-b995-3a9edeb2a16c",
   "metadata": {},
   "outputs": [
    {
     "name": "stdout",
     "output_type": "stream",
     "text": [
      "[1, 2, 3, 4]\n",
      "3\n",
      "[1, 2, 4, 20]\n",
      "[1, 2, 4, 20, 1]\n",
      "5\n"
     ]
    }
   ],
   "source": [
    "a=[1,2,3,4]\n",
    "b=a.copy()\n",
    "print(b)\n",
    "\n",
    "c=b.pop(2)\n",
    "print(c)\n",
    "\n",
    "b.append(20)\n",
    "print(b)\n",
    "\n",
    "b.append(1)\n",
    "print(b)\n",
    "\n",
    "print(len(b))\n",
    "\n",
    "\n",
    "\n",
    "\n"
   ]
  },
  {
   "cell_type": "code",
   "execution_count": 68,
   "id": "7aed1d99-68f2-47ff-b3d2-91dcadb8734b",
   "metadata": {},
   "outputs": [
    {
     "name": "stdin",
     "output_type": "stream",
     "text": [
      "enter the size of list 3\n"
     ]
    },
    {
     "name": "stdout",
     "output_type": "stream",
     "text": [
      "1\n",
      "[0]\n",
      "2\n",
      "[0, 1]\n",
      "3\n",
      "[0, 1, 2]\n",
      "4\n",
      "[0, 1, 2, 3]\n",
      "5\n",
      "[0, 1, 2, 3, 4]\n",
      "6\n",
      "[0, 1, 2, 3, 4, 5]\n"
     ]
    }
   ],
   "source": [
    "n=input(\"enter the size of list\")\n",
    "a=[]\n",
    "for x in range(0,6):\n",
    "    a.append(x)\n",
    "    print(len(a))\n",
    "    print(a)\n"
   ]
  },
  {
   "cell_type": "code",
   "execution_count": 66,
   "id": "5283c42f-adb8-4d06-b71a-ab08a9db664a",
   "metadata": {},
   "outputs": [
    {
     "name": "stdin",
     "output_type": "stream",
     "text": [
      "enter the size of list 4 5 6 7\n"
     ]
    },
    {
     "name": "stdout",
     "output_type": "stream",
     "text": [
      "[0]\n",
      "[0, 1]\n",
      "[0, 1, 2]\n",
      "[0, 1, 2, 3]\n",
      "[0, 1, 2, 3, 4]\n",
      "[0, 1, 2, 3, 4, 5]\n"
     ]
    }
   ],
   "source": [
    "n=input(\"enter the size of list\")\n",
    "a=[]\n",
    "for x in range(0,6):\n",
    "    a.append(x)\n",
    "    print(a)\n"
   ]
  },
  {
   "cell_type": "code",
   "execution_count": 31,
   "id": "64f500d1-f566-4da4-a15a-3de8c2079e1d",
   "metadata": {},
   "outputs": [
    {
     "name": "stdin",
     "output_type": "stream",
     "text": [
      "enter the element of the list: 1 2 3 4 5 6\n"
     ]
    },
    {
     "name": "stdout",
     "output_type": "stream",
     "text": [
      "[1, 2, 3, 4, 5, 6]\n"
     ]
    }
   ],
   "source": [
    "L=[int(item) for item in(input(\"enter the element of the list:\").split())]\n",
    "print(L)"
   ]
  },
  {
   "cell_type": "code",
   "execution_count": 37,
   "id": "cd5443c5-5a0e-4230-acde-406593b85a18",
   "metadata": {},
   "outputs": [
    {
     "name": "stdout",
     "output_type": "stream",
     "text": [
      "[1, 2, 3, 4, 5]\n",
      "<class 'list'>\n"
     ]
    }
   ],
   "source": [
    "a=list([1,2,3,4,5])\n",
    "print(a)\n",
    "print(type(a))"
   ]
  },
  {
   "cell_type": "code",
   "execution_count": 38,
   "id": "dde1d1fa-1c56-46db-9cc5-3b2618cba02b",
   "metadata": {},
   "outputs": [
    {
     "name": "stdout",
     "output_type": "stream",
     "text": [
      "(1, 2, 3, 4, 5)\n",
      "[1, 2, 3, 4, 5]\n",
      "(1, 2, 3, 4, 5)\n"
     ]
    }
   ],
   "source": [
    "a=(1,2,3,4,5)\n",
    "print(a)\n",
    "\n",
    "b=list(a)\n",
    "print(b)\n",
    "\n",
    "a=tuple(b)\n",
    "print(a)"
   ]
  },
  {
   "cell_type": "code",
   "execution_count": 55,
   "id": "bfc07b37-15d3-4877-a8b1-ef7d40c1d07e",
   "metadata": {},
   "outputs": [
    {
     "name": "stdout",
     "output_type": "stream",
     "text": [
      "[7, 5, 3, 2]\n"
     ]
    }
   ],
   "source": [
    "a= [2, 3, 5, 7]\n",
    "a.reverse()\n",
    "print(a)\n"
   ]
  },
  {
   "cell_type": "code",
   "execution_count": 42,
   "id": "6501eedb-3aa7-43d0-aa63-9bc6cd101ac8",
   "metadata": {},
   "outputs": [
    {
     "name": "stdout",
     "output_type": "stream",
     "text": [
      "6\n",
      "4\n",
      "3\n",
      "2\n",
      "1\n"
     ]
    }
   ],
   "source": [
    "a=(1,2,3,4,6)\n",
    "for x in range(-1,-1*(len(a)+1),-1):\n",
    "    print(a[x])"
   ]
  },
  {
   "cell_type": "code",
   "execution_count": 48,
   "id": "ce067d39-a348-45a4-bd40-3196beea55b0",
   "metadata": {},
   "outputs": [
    {
     "name": "stdout",
     "output_type": "stream",
     "text": [
      "[7, 5, 3, 2, 1]\n"
     ]
    },
    {
     "data": {
      "text/plain": [
       "5"
      ]
     },
     "execution_count": 48,
     "metadata": {},
     "output_type": "execute_result"
    }
   ],
   "source": [
    "a= [1,2, 3, 5, 7]\n",
    "a.reverse()\n",
    "print(a)\n",
    "len(a)"
   ]
  },
  {
   "cell_type": "code",
   "execution_count": 49,
   "id": "4c5663e2-acd5-400e-850b-97ad6fbd62c2",
   "metadata": {},
   "outputs": [
    {
     "name": "stdout",
     "output_type": "stream",
     "text": [
      "6\n",
      "4\n",
      "3\n",
      "2\n",
      "1\n"
     ]
    }
   ],
   "source": [
    "a=(1,2,3,4,6)\n",
    "for x in range(0,len(a)):\n",
    "    print(a[-1*(x+1)])"
   ]
  },
  {
   "cell_type": "code",
   "execution_count": 50,
   "id": "69477561-a382-4cdd-9575-3b5d40fc7acb",
   "metadata": {},
   "outputs": [
    {
     "name": "stdout",
     "output_type": "stream",
     "text": [
      "2\n",
      "1\n",
      "6\n",
      "4\n",
      "3\n"
     ]
    }
   ],
   "source": [
    "a=(1,2,3,4,6)\n",
    "for x in range(0,len(a)):\n",
    "    print(a[-1*(x-1)])"
   ]
  },
  {
   "cell_type": "code",
   "execution_count": 53,
   "id": "a73d0189-b450-40ab-af50-5e3614881624",
   "metadata": {},
   "outputs": [
    {
     "name": "stdout",
     "output_type": "stream",
     "text": [
      "6\n",
      "4\n",
      "3\n",
      "2\n",
      "1\n"
     ]
    }
   ],
   "source": [
    "a=(1,2,3,4,6)\n",
    "for x in range(0,len(a)):\n",
    "    print(a[-1*(x+1)])"
   ]
  },
  {
   "cell_type": "code",
   "execution_count": 56,
   "id": "b9d2c991-5508-43d4-8330-0d542f7a7e9a",
   "metadata": {},
   "outputs": [
    {
     "name": "stdout",
     "output_type": "stream",
     "text": [
      "{1: 'keerthana', 2: 'nausheen', 3: 'zoya'}\n",
      "keerthana\n"
     ]
    }
   ],
   "source": [
    "D={1:\"keerthana\",2:\"nausheen\",3:\"zoya\"}\n",
    "print(D)\n",
    "\n",
    "print(D[1])"
   ]
  },
  {
   "cell_type": "code",
   "execution_count": 70,
   "id": "22965ede-608f-424f-af3b-0172a63f8fc0",
   "metadata": {},
   "outputs": [
    {
     "name": "stdout",
     "output_type": "stream",
     "text": [
      "{1: 'keerthana', 2: 'sriya', 3: 'zoya'}\n",
      "sriya\n",
      "dict_keys([1, 2, 3])\n",
      "dict_values(['keerthana', 'sriya', 'zoya'])\n",
      "dict_items([(1, 'keerthana'), (2, 'sriya'), (3, 'zoya')])\n",
      "sriya\n",
      "None\n",
      "{1: 'keerthana', 2: 'sriya', 3: 'zoya'}\n"
     ]
    }
   ],
   "source": [
    "D={1:\"keerthana\",2:\"nausheen\",3:\"zoya\",2:\"sriya\"}\n",
    "print(D)\n",
    "\n",
    "print(D[2])\n",
    "print(D.keys())\n",
    "print(D.values())\n",
    "print(D.items())\n",
    "print(D.get(2))\n",
    "print(D.get(6))\n",
    "print(D.copy())"
   ]
  },
  {
   "cell_type": "code",
   "execution_count": 15,
   "id": "b692df9e-cf73-425b-9c69-e9fd501a82c4",
   "metadata": {},
   "outputs": [
    {
     "name": "stdin",
     "output_type": "stream",
     "text": [
      " 6\n",
      " 2\n"
     ]
    },
    {
     "name": "stdout",
     "output_type": "stream",
     "text": [
      "3.0\n",
      "division is successful\n",
      "3.0\n",
      "error handled\n",
      "we have received the result as :  3.0\n"
     ]
    }
   ],
   "source": [
    "A=int(input())\n",
    "B=int(input())\n",
    "\n",
    "try:\n",
    "    c=A/B\n",
    "    print(c)\n",
    "except:\n",
    "    print(\"we cannot divide by zero\")\n",
    "    c=0\n",
    "else:\n",
    "    print(\"division is successful\")\n",
    "    print(c)\n",
    "finally:\n",
    "    print(\"error handled\")\n",
    "\n",
    "print(\"we have received the result as : \",c)"
   ]
  },
  {
   "cell_type": "code",
   "execution_count": 22,
   "id": "e5b011ce-33ba-4aca-9e77-d1a84efaea7f",
   "metadata": {},
   "outputs": [
    {
     "name": "stdin",
     "output_type": "stream",
     "text": [
      "enter the index number 6\n"
     ]
    },
    {
     "name": "stdout",
     "output_type": "stream",
     "text": [
      "value received sriya\n",
      "error handelled\n"
     ]
    }
   ],
   "source": [
    "a=[1, 2.3,4, 6,8,\"keerth\",\"sriya\",\"tanz\",5]\n",
    "index=int(input(\"enter the index number\"))\n",
    "try:\n",
    "    a[index]\n",
    "except:\n",
    "    print( \"index out of bound\")\n",
    "else:\n",
    "    print( \"value received\", a[index])\n",
    "finally:\n",
    "    print(\"error handelled\")"
   ]
  },
  {
   "cell_type": "code",
   "execution_count": 18,
   "id": "410ed3ef-d5a4-4ff5-a17c-c09be60a61e6",
   "metadata": {},
   "outputs": [
    {
     "name": "stdin",
     "output_type": "stream",
     "text": [
      " 8\n",
      " 4\n"
     ]
    },
    {
     "name": "stdout",
     "output_type": "stream",
     "text": [
      "some unknown error found\n",
      "code execution done\n"
     ]
    }
   ],
   "source": [
    "try:\n",
    "    a=input()\n",
    "    b=input()\n",
    "    c=int(a)/int(b)\n",
    "    x=\"hello\"/3\n",
    "except ValueError:\n",
    "    print(\"Value unable to convert\")\n",
    "except ZeroDivisionError:\n",
    "    print(\"cant divide by zero\")\n",
    "except:\n",
    "    print(\"some unknown error found\")\n",
    "else:\n",
    "    print(\"no error\")\n",
    "finally:\n",
    "    print(\"code execution done\")"
   ]
  },
  {
   "cell_type": "code",
   "execution_count": null,
   "id": "931e1a15-a2f3-4566-ade5-a22082be41b1",
   "metadata": {},
   "outputs": [],
   "source": []
  }
 ],
 "metadata": {
  "kernelspec": {
   "display_name": "Python 3 (ipykernel)",
   "language": "python",
   "name": "python3"
  },
  "language_info": {
   "codemirror_mode": {
    "name": "ipython",
    "version": 3
   },
   "file_extension": ".py",
   "mimetype": "text/x-python",
   "name": "python",
   "nbconvert_exporter": "python",
   "pygments_lexer": "ipython3",
   "version": "3.12.3"
  }
 },
 "nbformat": 4,
 "nbformat_minor": 5
}
