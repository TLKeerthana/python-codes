{
 "cells": [
  {
   "cell_type": "code",
   "execution_count": 9,
   "id": "ccd4d385-0f89-484f-8fb3-f1c4bfd990d0",
   "metadata": {},
   "outputs": [
    {
     "name": "stdout",
     "output_type": "stream",
     "text": [
      "Bubble_Sorted array: [11, 12, 22, 25, 34, 64, 90]\n"
     ]
    }
   ],
   "source": [
    "#bubble sort\n",
    "arr = [64, 34, 25, 12, 22, 11, 90]\n",
    "n = len(arr)\n",
    "\n",
    "for i in range(n):\n",
    "    for j in range(0, n-i-1):\n",
    "        if arr[j] > arr[j+1]:\n",
    "            arr[j], arr[j+1] = arr[j+1], arr[j]\n",
    "\n",
    "print(\"Bubble_Sorted array:\", arr)"
   ]
  },
  {
   "cell_type": "code",
   "execution_count": 6,
   "id": "c479fb12-0ab8-410e-99d7-926f6c30269e",
   "metadata": {},
   "outputs": [
    {
     "name": "stdout",
     "output_type": "stream",
     "text": [
      "[4, 5, 1, 8, 6, 7, 9]\n"
     ]
    }
   ],
   "source": [
    "arr=[5,4,8,1,9,6,7]\n",
    "for i in range(0,len(arr)-1):\n",
    "    if arr[i]>arr[i+1]:\n",
    "        temp=arr[i]\n",
    "        arr[i]=arr[i+1]\n",
    "        arr[i+1]=temp\n",
    "\n",
    "print(arr)"
   ]
  },
  {
   "cell_type": "code",
   "execution_count": 8,
   "id": "4b909e19-5521-4508-ad61-648ac1633fa7",
   "metadata": {},
   "outputs": [
    {
     "name": "stdout",
     "output_type": "stream",
     "text": [
      "[1, 4, 5, 6, 7, 8, 9]\n"
     ]
    }
   ],
   "source": [
    "#bubble_sort\n",
    "arr=[5,4,8,1,9,6,7]\n",
    "for i in range(0,len(arr)):\n",
    "    for j in range(0,len(arr)-1):\n",
    "        if arr[j]>arr[j+1]:\n",
    "            temp=arr[j]\n",
    "            arr[j]=arr[j+1]\n",
    "            arr[j+1]=temp\n",
    "print(arr)"
   ]
  },
  {
   "cell_type": "code",
   "execution_count": 12,
   "id": "9e26b1df-b4db-4a0a-b128-cdc548f159ef",
   "metadata": {},
   "outputs": [
    {
     "name": "stdout",
     "output_type": "stream",
     "text": [
      "[1, 4, 5, 6, 7, 8, 9, 10]\n"
     ]
    }
   ],
   "source": [
    "#insertion sort\n",
    "arr = [5, 4, 10, 8, 1, 9, 6, 7]\n",
    "\n",
    "for i in range(1, len(arr)):\n",
    "    temp = arr[i]\n",
    "    j = i - 1\n",
    "    while j >= 0 and temp < arr[j]:\n",
    "        arr[j + 1] = arr[j]\n",
    "        j -= 1\n",
    "    arr[j + 1] = temp\n",
    "\n",
    "print(arr)"
   ]
  },
  {
   "cell_type": "code",
   "execution_count": 13,
   "id": "61885eb7-0eb3-4a4e-b834-6b46302730fc",
   "metadata": {},
   "outputs": [
    {
     "name": "stdout",
     "output_type": "stream",
     "text": [
      "[1, 4, 5, 6, 7, 8, 9, 10]\n"
     ]
    }
   ],
   "source": [
    "#selection sort\n",
    "arr = [5, 4, 10, 8, 1, 9, 6, 7]\n",
    "\n",
    "for i in range(0, len(arr)):\n",
    "    min_idx = i\n",
    "    for j in range(i+1,len(arr)):\n",
    "        if arr[min_idx]>arr[j]:\n",
    "            min_idx=j\n",
    "\n",
    "    temp=arr[i]\n",
    "    arr[i]=arr[min_idx]\n",
    "    arr[min_idx]=temp\n",
    "    \n",
    "print(arr)\n"
   ]
  },
  {
   "cell_type": "code",
   "execution_count": 2,
   "id": "5609a726-6d0e-496d-afb4-b1769b6f0347",
   "metadata": {},
   "outputs": [
    {
     "name": "stdout",
     "output_type": "stream",
     "text": [
      "[18, 20, 23, 32, 34, 45, 56, 59, 69, 75, 78, 78, 87, 90, 96]\n"
     ]
    },
    {
     "name": "stdin",
     "output_type": "stream",
     "text": [
      " 45\n"
     ]
    },
    {
     "name": "stdout",
     "output_type": "stream",
     "text": [
      "index of element is 5\n",
      "low 0 high 15 mid 7\n",
      "low 0 high 6 mid 3\n",
      "low 4 high 6 mid 5\n",
      "element found at 5\n"
     ]
    }
   ],
   "source": [
    "L=[23,45,78,32,87,56,34,90,78,96,59,69,75,20,18]\n",
    "L.sort()\n",
    "print(L)\n",
    "low=0\n",
    "high = len(L)\n",
    "srch=int(input())\n",
    "try:\n",
    "    print(\"index of element is\",L.index(srch))\n",
    "except:\n",
    "    print(\"item not in list\")\n",
    "Flag=0\n",
    "while low<high:\n",
    "    mid=int(low+(high-low)/2)\n",
    "    print(\"low\",low,\"high\",high,\"mid\",mid)\n",
    "    if srch<L[mid]:\n",
    "        high=mid-1\n",
    "    elif srch>L[mid]:\n",
    "        low=mid+1\n",
    "    else:\n",
    "        Flag=1\n",
    "        break;\n",
    "\n",
    "if Flag==1:\n",
    "    print(\"element found at\",mid)\n",
    "else:\n",
    "    print(\"element not found at\",mid)"
   ]
  },
  {
   "cell_type": "code",
   "execution_count": 11,
   "id": "3f9fc28e-33b6-484e-b63d-6ce2842796bb",
   "metadata": {},
   "outputs": [
    {
     "name": "stdin",
     "output_type": "stream",
     "text": [
      " th[is {i(s a)] car\n"
     ]
    },
    {
     "name": "stdout",
     "output_type": "stream",
     "text": [
      "invalid string\n"
     ]
    }
   ],
   "source": [
    "s=input()\n",
    "x=y=z=0\n",
    "for c in s:\n",
    "    match(c):\n",
    "            case '(':x+=1\n",
    "            case ')':x-=1\n",
    "            case '{':y+=1\n",
    "            case '}':y-=1\n",
    "            case '[':z+=1\n",
    "            case ']':z-=1\n",
    "            case _: continue\n",
    "\n",
    "if x+y+z==0:\n",
    "    print(\"valid string\")\n",
    "else:\n",
    "    print(\"invalid string\")\n",
    "                "
   ]
  },
  {
   "cell_type": "code",
   "execution_count": 13,
   "id": "7d1eefcd-2ca1-4cdb-b311-e0860c2a96b6",
   "metadata": {},
   "outputs": [
    {
     "name": "stdout",
     "output_type": "stream",
     "text": [
      "[2, 3, 4, 5, 6]\n",
      "elements popped from stack:\n",
      "6\n",
      "5\n",
      "4\n",
      "3\n",
      "2\n",
      "\n",
      " stacks after elements are popped:\n",
      "[]\n"
     ]
    }
   ],
   "source": [
    "stack=[2,3,4,5,6]\n",
    "print(stack)\n",
    "\n",
    "print(\"elements popped from stack:\")\n",
    "print(stack.pop())\n",
    "print(stack.pop())\n",
    "print(stack.pop())\n",
    "print(stack.pop())\n",
    "print(stack.pop())\n",
    "\n",
    "print(\"\\n stacks after elements are popped:\")\n",
    "print(stack)"
   ]
  },
  {
   "cell_type": "code",
   "execution_count": 14,
   "id": "6713d987-adff-4f89-b5ae-74c67bdd2e60",
   "metadata": {},
   "outputs": [],
   "source": [
    "def create_stack():\n",
    "    stack = []\n",
    "    return stack\n",
    "\n",
    "def is_empty(stack):\n",
    "    return len(stack) == 0\n",
    "\n",
    "def push(stack, item):\n",
    "    stack.append(item)\n",
    "\n",
    "def pop(stack):\n",
    "    if not is_empty(stack):\n",
    "        return stack.pop()\n",
    "    else:\n",
    "        raise IndexError(\"pop from empty stack\")\n",
    "\n",
    "def size(stack):\n",
    "    return len(stack)"
   ]
  },
  {
   "cell_type": "code",
   "execution_count": 18,
   "id": "8efd89ca-0954-4671-b45e-55385bf5f7af",
   "metadata": {},
   "outputs": [
    {
     "name": "stdout",
     "output_type": "stream",
     "text": [
      "Stack: [1, 2, 3]\n",
      "Popped item: 3\n",
      "Stack after pop: [1, 2]\n",
      "Top item: 1\n"
     ]
    }
   ],
   "source": [
    "stack = []\n",
    "\n",
    "def push(item):\n",
    "    stack.append(item)\n",
    "\n",
    "def pop():\n",
    "    if not is_empty():\n",
    "        return stack.pop()\n",
    "    else:\n",
    "        print(\"Stack is empty\")\n",
    "        return None\n",
    "\n",
    "def is_empty():\n",
    "    return len(stack) == 0\n",
    "    \n",
    "push(1)\n",
    "push(2)\n",
    "push(3)\n",
    "\n",
    "print(\"Stack:\", stack)\n",
    "\n",
    "print(\"Popped item:\", pop())\n",
    "print(\"Stack after pop:\", stack)\n",
    "\n",
    "if not is_empty():\n",
    "    print(\"Top item:\", stack[-2])\n",
    "else:\n",
    "    print(\"Stack is empty\")"
   ]
  },
  {
   "cell_type": "code",
   "execution_count": 12,
   "id": "e4641714-2782-4633-ab1b-9e140c278663",
   "metadata": {},
   "outputs": [
    {
     "name": "stdout",
     "output_type": "stream",
     "text": [
      "item added to stack\n",
      "item added to stack\n",
      "item added to stack\n",
      "item added to stack\n",
      "[1, 2, 3, 4]\n",
      "item removed from stack\n",
      "item removed from stack\n",
      "item removed from stack\n",
      "[1]\n"
     ]
    }
   ],
   "source": [
    "stack=[]\n",
    "\n",
    "def add(E):\n",
    "    stack.append(E)\n",
    "    print(\"item added to stack\")\n",
    "\n",
    "def rem():\n",
    "    print(\"item removed from stack\")\n",
    "    return stack.pop()\n",
    "    \n",
    "add(1)\n",
    "add(2)\n",
    "add(3)\n",
    "add(4)\n",
    "print(stack)\n",
    "\n",
    "rem()\n",
    "rem()\n",
    "rem()\n",
    "print(stack)\n"
   ]
  },
  {
   "cell_type": "code",
   "execution_count": 2,
   "id": "751a5019-4418-4c92-abcd-70d14cd30815",
   "metadata": {},
   "outputs": [
    {
     "name": "stdout",
     "output_type": "stream",
     "text": [
      "item inserted into queue\n",
      "item inserted into queue\n",
      "item inserted into queue\n",
      "item inserted into queue\n",
      "[1, 2, 4, 5]\n"
     ]
    }
   ],
   "source": [
    "queue=[]\n",
    "\n",
    "def enqueue(E):\n",
    "    queue.append(E)\n",
    "    print(\"item inserted into queue\")\n",
    "\n",
    "def dequeue():\n",
    "    print(\"item removed from queue\")\n",
    "    return queue.delete()\n",
    "    \n",
    "enqueue(1)\n",
    "enqueue(2)\n",
    "enqueue(4)\n",
    "enqueue(5)\n",
    "print(queue)\n"
   ]
  },
  {
   "cell_type": "code",
   "execution_count": null,
   "id": "1398b9c2-8efc-4f3b-b3c0-f22b9a04920a",
   "metadata": {},
   "outputs": [],
   "source": []
  }
 ],
 "metadata": {
  "kernelspec": {
   "display_name": "Python 3 (ipykernel)",
   "language": "python",
   "name": "python3"
  },
  "language_info": {
   "codemirror_mode": {
    "name": "ipython",
    "version": 3
   },
   "file_extension": ".py",
   "mimetype": "text/x-python",
   "name": "python",
   "nbconvert_exporter": "python",
   "pygments_lexer": "ipython3",
   "version": "3.12.3"
  }
 },
 "nbformat": 4,
 "nbformat_minor": 5
}
