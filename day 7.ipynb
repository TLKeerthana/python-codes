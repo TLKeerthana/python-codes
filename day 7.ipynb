{
 "cells": [
  {
   "cell_type": "code",
   "execution_count": 16,
   "id": "7f505deb-05bd-4041-be64-e9207485265a",
   "metadata": {},
   "outputs": [
    {
     "name": "stdout",
     "output_type": "stream",
     "text": [
      "19\n"
     ]
    }
   ],
   "source": [
    "#find the maximum of any 3 consecutive elements of this array\n",
    "L = [2, 4, 6, 1, 3, 7, 4, 6, 9, 3, 6, 8, 3, 6, 4, 1, 3, 9, 6, 4, 5, 6, 8, 3, 7, 3, 6, 8]\n",
    "max =0\n",
    "\n",
    "for x in range(0, len (L) -2) :\n",
    "    sum = L[x]+L [x+1]+L[x+2]\n",
    "    if(max<sum) :\n",
    "        max= sum\n",
    "print (max)"
   ]
  },
  {
   "cell_type": "code",
   "execution_count": 4,
   "id": "47bff0ed-e669-469a-a452-98c0412a5b00",
   "metadata": {},
   "outputs": [
    {
     "name": "stdout",
     "output_type": "stream",
     "text": [
      "Maximum sum of three consecutive numbers: 19\n",
      "Starting index of the maximum sum: 6\n"
     ]
    }
   ],
   "source": [
    "L = [2, 4, 6, 1, 3, 7, 4, 6, 9, 3, 6, 8, 3, 6, 4, 1, 3, 9, 6, 4, 5, 6, 8, 3, 7, 3, 6, 8]\n",
    "sum_ = 0\n",
    "max_start_index = 0\n",
    "\n",
    "for i in range(len(L) - 2):\n",
    "    if L[i] + L[i + 1] + L[i + 2] > sum_:\n",
    "        sum_ = L[i] + L[i + 1] + L[i + 2]\n",
    "        max_start_index = i\n",
    "\n",
    "print(\"Maximum sum of three consecutive numbers:\", sum_)\n",
    "print(\"Starting index of the maximum sum:\", max_start_index)"
   ]
  },
  {
   "cell_type": "code",
   "execution_count": 7,
   "id": "ad483118-1aeb-4312-8d3d-970314e836d8",
   "metadata": {},
   "outputs": [
    {
     "name": "stdin",
     "output_type": "stream",
     "text": [
      "Enter the consecutive number: 3\n"
     ]
    },
    {
     "name": "stdout",
     "output_type": "stream",
     "text": [
      "19\n"
     ]
    }
   ],
   "source": [
    "\n",
    "con=int(input(\"Enter the consecutive number:\"))\n",
    "max=0\n",
    "for x in range(0,len(L)-con):\n",
    "    s=0\n",
    "    for j in range(0,con):\n",
    "        s=s+L[x+j]\n",
    "    if max<s:\n",
    "            max=s\n",
    "        \n",
    "print(max)"
   ]
  },
  {
   "cell_type": "code",
   "execution_count": 8,
   "id": "2b144749-ecc3-4411-a781-a6d08ff75a79",
   "metadata": {},
   "outputs": [
    {
     "name": "stdin",
     "output_type": "stream",
     "text": [
      "Enter the number of consecutive elements:  3\n"
     ]
    },
    {
     "name": "stdout",
     "output_type": "stream",
     "text": [
      "19\n"
     ]
    }
   ],
   "source": [
    "L = [2, 4, 6, 1, 3, 7, 4, 6, 9, 3, 6, 8, 3, 6, 4, 1, 3, 9, 6, 4, 5, 6, 8, 3, 7, 3, 6, 8]\n",
    "\n",
    "con = int(input(\"Enter the number of consecutive elements: \"))  # Convert input to integer\n",
    "\n",
    "max_sum = 0\n",
    "\n",
    "for x in range(0, len(L) - con + 1):\n",
    "    s = 0\n",
    "    for j in range(0, con):\n",
    "        s += L[x + j]\n",
    "    if max_sum < s:\n",
    "        max_sum = s\n",
    "        \n",
    "print(max_sum)"
   ]
  },
  {
   "cell_type": "code",
   "execution_count": 14,
   "id": "94d0c95a-cfca-4071-b44e-414a23cd6ecf",
   "metadata": {},
   "outputs": [
    {
     "name": "stdin",
     "output_type": "stream",
     "text": [
      "Enter the num of consecutive elements:  4\n"
     ]
    },
    {
     "name": "stdout",
     "output_type": "stream",
     "text": [
      "26\n"
     ]
    }
   ],
   "source": [
    "L = [2, 4, 6, 1, 3, 7, 4, 6, 9, 3, 6, 8, 3, 6, 4, 1, 3, 9, 6, 4, 5, 6, 8, 3, 7, 3, 6, 8]\n",
    "\n",
    "con = int(input(\"Enter the num of consecutive elements: \")) \n",
    "\n",
    "max = 0\n",
    "sum_= 0\n",
    "\n",
    "for i in range(0, len(L) - con + 1):\n",
    "    sum_ = sum(L[i:i + con]) \n",
    "    if max < sum_:\n",
    "        max = sum_\n",
    "\n",
    "print(max)"
   ]
  },
  {
   "cell_type": "code",
   "execution_count": 7,
   "id": "454615e5-c673-481d-98c7-fad103dcf8e2",
   "metadata": {},
   "outputs": [
    {
     "name": "stdout",
     "output_type": "stream",
     "text": [
      "Sorted array: [64, 25, 22, 12, 11]\n"
     ]
    }
   ],
   "source": [
    "def sort(arr):\n",
    "    n = len(arr)\n",
    "    for i in range(n):\n",
    "        for j in range(i + 1,n):\n",
    "            if arr[j] > arr[i]:\n",
    "                arr[j],arr[i]=arr[i],arr[j]\n",
    "\n",
    "num = [64, 25, 12, 22, 11]\n",
    "sort(num)\n",
    "print(\"Sorted array:\", num)"
   ]
  },
  {
   "cell_type": "code",
   "execution_count": 5,
   "id": "a2d5d95b-5d08-4eaf-8790-c912979cebdb",
   "metadata": {},
   "outputs": [
    {
     "name": "stdout",
     "output_type": "stream",
     "text": [
      "Sorted array: [11, 12, 22, 25, 64]\n"
     ]
    }
   ],
   "source": [
    "def sort(arr):\n",
    "    n = len(arr)\n",
    "    for i in range(n):\n",
    "        for j in range(i + 1, n):\n",
    "            if arr[i] > arr[j]:\n",
    "                arr[i], arr[j] = arr[j], arr[i]\n",
    "\n",
    "num = [64, 25, 12, 22, 11]\n",
    "sort(num)\n",
    "print(\"Sorted array:\", num)"
   ]
  },
  {
   "cell_type": "code",
   "execution_count": 8,
   "id": "bcb3ced2-5d54-40b3-8691-7a2457ca487c",
   "metadata": {},
   "outputs": [
    {
     "name": "stdout",
     "output_type": "stream",
     "text": [
      "[1, 2, 4, 5, 7, 9]\n"
     ]
    }
   ],
   "source": [
    "a=[2,9,5,1,7,4]\n",
    "for i in range(0,1):\n",
    "    a.sort()\n",
    "\n",
    "print(a)"
   ]
  },
  {
   "cell_type": "code",
   "execution_count": null,
   "id": "e183d9fe-65ab-47e1-a10d-bdd9a3990072",
   "metadata": {},
   "outputs": [],
   "source": []
  }
 ],
 "metadata": {
  "kernelspec": {
   "display_name": "Python 3 (ipykernel)",
   "language": "python",
   "name": "python3"
  },
  "language_info": {
   "codemirror_mode": {
    "name": "ipython",
    "version": 3
   },
   "file_extension": ".py",
   "mimetype": "text/x-python",
   "name": "python",
   "nbconvert_exporter": "python",
   "pygments_lexer": "ipython3",
   "version": "3.12.3"
  }
 },
 "nbformat": 4,
 "nbformat_minor": 5
}
