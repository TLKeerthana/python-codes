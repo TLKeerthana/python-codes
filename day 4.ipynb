{
 "cells": [
  {
   "cell_type": "code",
   "execution_count": 1,
   "id": "fa03b27f-916d-4851-8f3c-d3ff0ce2d0db",
   "metadata": {},
   "outputs": [
    {
     "name": "stdin",
     "output_type": "stream",
     "text": [
      "enter a character: 4\n"
     ]
    },
    {
     "name": "stdout",
     "output_type": "stream",
     "text": [
      "numeric character\n"
     ]
    }
   ],
   "source": [
    "a=input(\"enter a character:\")\n",
    "if a.islower():\n",
    "    print(\"lowercase character\")\n",
    "else:\n",
    "    if a.isupper():\n",
    "        print(\"uppercase character\")\n",
    "    else:\n",
    "        if a.isdigit():\n",
    "            print(\"numeric character\")\n",
    "        else:\n",
    "            print(\"special character\")"
   ]
  },
  {
   "cell_type": "code",
   "execution_count": 3,
   "id": "6eb4f3d3-2ab4-4d5e-8dbd-aa069c35b208",
   "metadata": {},
   "outputs": [
    {
     "name": "stdin",
     "output_type": "stream",
     "text": [
      " keer\n"
     ]
    },
    {
     "name": "stdout",
     "output_type": "stream",
     "text": [
      "palindrome\n"
     ]
    }
   ],
   "source": [
    "a=input()\n",
    "flag=0\n",
    "for i in range(0,int(len(a)/2)):\n",
    "    if a[i] !=a[(i+1)*-1]:\n",
    "        flag=1\n",
    "        break\n",
    "\n",
    "if flag:\n",
    "    print(\"palindrome\")\n",
    "else:\n",
    "    print(\"not palindrome\")"
   ]
  },
  {
   "cell_type": "code",
   "execution_count": 27,
   "id": "0d773ea6-4894-46fd-b8b4-41aeaec6f016",
   "metadata": {},
   "outputs": [
    {
     "name": "stdin",
     "output_type": "stream",
     "text": [
      "enter the number: 9\n"
     ]
    },
    {
     "name": "stdout",
     "output_type": "stream",
     "text": [
      "9 is not prime\n"
     ]
    }
   ],
   "source": [
    "num=int(input(\"enter the number:\"))\n",
    "for i in range(2,num):\n",
    "    if(num%i)==0:\n",
    "        print(num,\"is not prime\")\n",
    "        break\n",
    "else:\n",
    "     print(num,\"is prime\")"
   ]
  },
  {
   "cell_type": "code",
   "execution_count": 25,
   "id": "eb8f3109-e951-46cd-b359-46ad256f2f2d",
   "metadata": {},
   "outputs": [
    {
     "name": "stdin",
     "output_type": "stream",
     "text": [
      "enter the number: 3\n"
     ]
    },
    {
     "name": "stdout",
     "output_type": "stream",
     "text": [
      "3 is prime\n"
     ]
    }
   ],
   "source": [
    "a=int(input(\"enter the number:\"))\n",
    "\n",
    "for i in range(2,a):\n",
    "    if(a%i)==0:\n",
    "        print(num,\"is not prime\")\n",
    "        break\n",
    "else:\n",
    "     print(num,\"is prime\")"
   ]
  },
  {
   "cell_type": "code",
   "execution_count": 7,
   "id": "c422a1b8-9bda-4a69-b1ab-df5069c755bc",
   "metadata": {},
   "outputs": [],
   "source": [
    "import os\n",
    "with open(\"keerthana.txt\",'w')as f:\n",
    "    f.write(\"this is my first file\")"
   ]
  },
  {
   "cell_type": "code",
   "execution_count": 12,
   "id": "a993803f-c807-4a36-a4ff-71b9c8ee4c34",
   "metadata": {},
   "outputs": [],
   "source": [
    "import os\n",
    "with open(\"keerthana.txt\",'w')as f:\n",
    "    f.write(\"this is my first file\\n\")\n",
    "    f.write(\"this is my second file\")"
   ]
  },
  {
   "cell_type": "code",
   "execution_count": null,
   "id": "da341e21-3a3d-4bf9-95fd-b245022faa55",
   "metadata": {},
   "outputs": [],
   "source": []
  }
 ],
 "metadata": {
  "kernelspec": {
   "display_name": "Python 3 (ipykernel)",
   "language": "python",
   "name": "python3"
  },
  "language_info": {
   "codemirror_mode": {
    "name": "ipython",
    "version": 3
   },
   "file_extension": ".py",
   "mimetype": "text/x-python",
   "name": "python",
   "nbconvert_exporter": "python",
   "pygments_lexer": "ipython3",
   "version": "3.12.3"
  }
 },
 "nbformat": 4,
 "nbformat_minor": 5
}
